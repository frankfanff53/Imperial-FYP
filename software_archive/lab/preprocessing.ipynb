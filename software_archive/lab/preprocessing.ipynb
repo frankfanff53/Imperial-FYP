{
 "cells": [
  {
   "cell_type": "code",
   "execution_count": 1,
   "metadata": {},
   "outputs": [],
   "source": [
    "import os\n",
    "import SimpleITK as sitk\n",
    "import numpy as np\n",
    "from matplotlib import pyplot as plt"
   ]
  },
  {
   "cell_type": "code",
   "execution_count": 2,
   "metadata": {},
   "outputs": [],
   "source": [
    "from pathlib import Path\n",
    "\n",
    "\n",
    "base_path = Path(os.getcwd()).parent / \"structured_crohns\" / \"labels\""
   ]
  },
  {
   "cell_type": "code",
   "execution_count": 3,
   "metadata": {},
   "outputs": [],
   "source": [
    "coronal_labels_dir = base_path / \"coronal\"\n",
    "\n",
    "coronal_labels_path = list(sorted(coronal_labels_dir.glob(\"*.nii.gz\")))"
   ]
  },
  {
   "cell_type": "code",
   "execution_count": 4,
   "metadata": {},
   "outputs": [
    {
     "name": "stdout",
     "output_type": "stream",
     "text": [
      "Inspecting coronal label:  ['I107_CORONAL_T2_SEG.nii.gz', 'A103_CORONAL_T2_SEG.nii.gz', 'A109_CORONAL_T2_SEG.nii.gz', 'I112_CORONAL_T2_SEG.nii.gz', 'A109_CORONAL_T2_SEG.nii.gz', 'A108_CORONAL_T2_SEG.nii.gz', 'A104_CORONAL_T2_SEG.nii.gz', 'A106_CORONAL_T2_SEG.nii.gz', 'I108_CORONAL_T2_SEG.nii.gz', 'I109_CORONAL_T2_SEG.nii.gz']\n"
     ]
    }
   ],
   "source": [
    "n_samples = 10\n",
    "index = np.random.randint(0, len(coronal_labels_path), n_samples)\n",
    "coronal_label_path = [coronal_labels_path[i] for i in index]\n",
    "print(\"Inspecting coronal label: \", [f.name for f in coronal_label_path])"
   ]
  },
  {
   "cell_type": "code",
   "execution_count": 8,
   "metadata": {},
   "outputs": [],
   "source": [
    "counter = {}\n",
    "for path in coronal_label_path:\n",
    "    label = sitk.ReadImage(str(path))\n",
    "    label = sitk.GetArrayFromImage(label)\n",
    "\n",
    "    unique_labels, counts = np.unique(label, return_counts=True)\n",
    "    for l, c in zip(unique_labels, counts):\n",
    "        if l in counter:\n",
    "            counter[l] += c\n",
    "        else:\n",
    "            counter[l] = c"
   ]
  },
  {
   "cell_type": "code",
   "execution_count": 9,
   "metadata": {},
   "outputs": [
    {
     "data": {
      "text/plain": [
       "{0.0: 87406507, 1.0: 142210, 2.0: 8403}"
      ]
     },
     "execution_count": 9,
     "metadata": {},
     "output_type": "execute_result"
    }
   ],
   "source": [
    "counter"
   ]
  },
  {
   "cell_type": "code",
   "execution_count": 10,
   "metadata": {},
   "outputs": [
    {
     "data": {
      "text/plain": [
       "{0.0: 0.998279831497427,\n",
       " 1.0: 0.0016241968671422723,\n",
       " 2.0: 9.597163543067656e-05}"
      ]
     },
     "execution_count": 10,
     "metadata": {},
     "output_type": "execute_result"
    }
   ],
   "source": [
    "counter_density = {k : v / sum(counter.values()) for k, v in counter.items()}\n",
    "counter_density"
   ]
  },
  {
   "cell_type": "code",
   "execution_count": 11,
   "metadata": {},
   "outputs": [
    {
     "data": {
      "image/png": "[encoded data removed]",
      "text/plain": [
       "<Figure size 800x600 with 1 Axes>"
      ]
     },
     "metadata": {},
     "output_type": "display_data"
    }
   ],
   "source": [
    "# plot label distribution from counter\n",
    "fig, ax = plt.subplots(figsize=(8, 6))\n",
    "ax.bar(counter_density.keys(), counter_density.values(), align=\"center\", width=0.5, alpha=0.5, color=['r', 'g', 'b'])\n",
    "ax.set_xticks(list(counter_density.keys()))\n",
    "ax.set_title(\"Label distribution (Coronal T2)\", fontsize=16, fontweight=\"bold\")\n",
    "ax.set_xlabel(\"Label\", fontsize=14, fontweight=\"bold\")\n",
    "ax.set_ylabel(\"Count\", fontsize=14, fontweight=\"bold\")\n",
    "ax.set_yscale(\"log\")\n",
    "plt.tight_layout()\n",
    "plt.show()"
   ]
  },
  {
   "cell_type": "code",
   "execution_count": 13,
   "metadata": {},
   "outputs": [
    {
     "name": "stdout",
     "output_type": "stream",
     "text": [
      "Inspecting axial label:  ['A107_AXIAL_T2_SEG.nii.gz', 'I119_AXIAL_T2_SEG.nii.gz', 'A102_AXIAL_T2_SEG.nii.gz', 'A107_AXIAL_T2_SEG.nii.gz', 'A101_AXIAL_T2_SEG.nii.gz', 'I102_AXIAL_T2_SEG.nii.gz', 'A109_AXIAL_T2_SEG.nii.gz', 'A108_AXIAL_T2_SEG.nii.gz', 'A113_AXIAL_T2_SEG.nii.gz', 'A103_AXIAL_T2_SEG.nii.gz']\n"
     ]
    }
   ],
   "source": [
    "axial_labels_dir = base_path / \"axial\" / \"t2\"\n",
    "\n",
    "axial_labels_path = list(sorted(axial_labels_dir.glob(\"*.nii.gz\")))\n",
    "n_samples = 10\n",
    "index = np.random.randint(0, len(axial_labels_path), n_samples)\n",
    "axial_label_path = [axial_labels_path[i] for i in index]\n",
    "print(\"Inspecting axial label: \", [f.name for f in axial_label_path])"
   ]
  },
  {
   "cell_type": "code",
   "execution_count": 14,
   "metadata": {},
   "outputs": [
    {
     "data": {
      "text/plain": [
       "{0: 179614306, 1: 114280, 3: 409371, 6: 3762, 2: 21781, 4: 5972}"
      ]
     },
     "execution_count": 14,
     "metadata": {},
     "output_type": "execute_result"
    }
   ],
   "source": [
    "counter_t2_axial = {}\n",
    "for path in axial_label_path:\n",
    "    label = sitk.ReadImage(str(path))\n",
    "    label = sitk.GetArrayFromImage(label)\n",
    "\n",
    "    unique_labels, counts = np.unique(label, return_counts=True)\n",
    "    for l, c in zip(unique_labels, counts):\n",
    "        if l in counter_t2_axial:\n",
    "            counter_t2_axial[l] += c\n",
    "        else:\n",
    "            counter_t2_axial[l] = c\n",
    "    \n",
    "counter_t2_axial"
   ]
  },
  {
   "cell_type": "code",
   "execution_count": 15,
   "metadata": {},
   "outputs": [
    {
     "data": {
      "text/plain": [
       "{0: 0.9969186455738739,\n",
       " 1: 0.0006342916962092224,\n",
       " 3: 0.0022721440844317956,\n",
       " 6: 2.088034092701343e-05,\n",
       " 2: 0.0001208917346441466,\n",
       " 4: 3.314656991390861e-05}"
      ]
     },
     "execution_count": 15,
     "metadata": {},
     "output_type": "execute_result"
    }
   ],
   "source": [
    "counter_t2_axial_density = {k : v / sum(counter_t2_axial.values()) for k, v in counter_t2_axial.items()}\n",
    "counter_t2_axial_density"
   ]
  },
  {
   "cell_type": "code",
   "execution_count": 16,
   "metadata": {},
   "outputs": [
    {
     "name": "stdout",
     "output_type": "stream",
     "text": [
      "Inspecting axial label:  ['I101_AXIAL_POSTCON_SEG.nii.gz', 'I105_AXIAL_POSTCON_SEG.nii.gz', 'I113_AXIAL_POSTCON_SEG.nii.gz', 'I104_AXIAL_POSTCON_SEG.nii.gz', 'I108_AXIAL_POSTCON_SEG.nii.gz', 'I117_AXIAL_POSTCON_SEG.nii.gz', 'A102_AXIAL_POSTCON_SEG.nii.gz', 'I103_AXIAL_POSTCON_SEG.nii.gz', 'I106_AXIAL_POSTCON_SEG.nii.gz', 'A109_AXIAL_POSTCON_SEG.nii.gz']\n"
     ]
    }
   ],
   "source": [
    "axial_label_postcon_dir = base_path / \"axial\" / \"postcon\"\n",
    "\n",
    "axial_label_postcon_path = list(sorted(axial_label_postcon_dir.glob(\"*.nii.gz\")))\n",
    "\n",
    "n_samples = 10\n",
    "index = np.random.randint(0, len(axial_label_postcon_path), n_samples)\n",
    "axial_label_postcon_path = [axial_label_postcon_path[i] for i in index]\n",
    "print(\"Inspecting axial label: \", [f.name for f in axial_label_postcon_path])"
   ]
  },
  {
   "cell_type": "code",
   "execution_count": 17,
   "metadata": {},
   "outputs": [
    {
     "data": {
      "text/plain": [
       "{0: 272081765, 1: 133925, 3: 618595, 6: 6753, 2: 34482}"
      ]
     },
     "execution_count": 17,
     "metadata": {},
     "output_type": "execute_result"
    }
   ],
   "source": [
    "counter_postcon_axial = {}\n",
    "for path in axial_label_postcon_path:\n",
    "    label = sitk.ReadImage(str(path))\n",
    "    label = sitk.GetArrayFromImage(label)\n",
    "\n",
    "    unique_labels, counts = np.unique(label, return_counts=True)\n",
    "    for l, c in zip(unique_labels, counts):\n",
    "        if l in counter_postcon_axial:\n",
    "            counter_postcon_axial[l] += c\n",
    "        else:\n",
    "            counter_postcon_axial[l] = c\n",
    "\n",
    "counter_postcon_axial"
   ]
  },
  {
   "cell_type": "code",
   "execution_count": 18,
   "metadata": {},
   "outputs": [
    {
     "data": {
      "text/plain": [
       "{0: 0.9970911461753696,\n",
       " 1: 0.0004907915521333684,\n",
       " 3: 0.002266949413417517,\n",
       " 6: 2.474754789290003e-05,\n",
       " 2: 0.0001263653111865806}"
      ]
     },
     "execution_count": 18,
     "metadata": {},
     "output_type": "execute_result"
    }
   ],
   "source": [
    "counter_postcon_axial_density = {k : v / sum(counter_postcon_axial.values()) for k, v in counter_postcon_axial.items()}\n",
    "counter_postcon_axial_density"
   ]
  },
  {
   "cell_type": "code",
   "execution_count": 31,
   "metadata": {},
   "outputs": [],
   "source": [
    "N = 7\n",
    "ind = np.arange(N)  # the x locations for the groups\n",
    "\n",
    "width = 0.25  # the width of the bars\n",
    "\n",
    "# fill in missing entries\n",
    "for i in range(N):\n",
    "    if i not in counter_density:\n",
    "        counter_density[i] = 0\n",
    "    if i not in counter_t2_axial_density:\n",
    "        counter_t2_axial_density[i] = 0\n",
    "    if i not in counter_postcon_axial_density:\n",
    "        counter_postcon_axial_density[i] = 0\n",
    "\n",
    "# sort by key\n",
    "counter_density = dict(sorted(counter_density.items()))\n",
    "counter_t2_axial_density = dict(sorted(counter_t2_axial_density.items()))\n",
    "counter_postcon_axial_density = dict(sorted(counter_postcon_axial_density.items()))"
   ]
  },
  {
   "cell_type": "code",
   "execution_count": 40,
   "metadata": {},
   "outputs": [],
   "source": [
    "counter_density = {int(k): v for k, v in counter_density.items()}"
   ]
  },
  {
   "cell_type": "code",
   "execution_count": 41,
   "metadata": {},
   "outputs": [
    {
     "data": {
      "image/png": "[encoded data removed]",
      "text/plain": [
       "<Figure size 800x600 with 1 Axes>"
      ]
     },
     "metadata": {},
     "output_type": "display_data"
    }
   ],
   "source": [
    "fig, ax = plt.subplots(figsize=(8, 6))\n",
    "rects1 = ax.bar(ind - width, counter_density.values(), width, label='Coronal T2', )\n",
    "rects2 = ax.bar(ind, counter_t2_axial_density.values(), width, label='Axial T2')\n",
    "rects3 = ax.bar(ind + width, counter_postcon_axial_density.values(), width, label='Axial Postcon')\n",
    "\n",
    "# Add some text for labels, title and custom x-axis tick labels, etc.\n",
    "ax.set_ylabel('Count', fontsize=14, fontweight=\"bold\")\n",
    "ax.set_title('Label distribution', fontsize=16, fontweight=\"bold\")\n",
    "ax.set_xticks([i for i in range(N)])\n",
    "ax.set_xticklabels(list(counter_density.keys()))\n",
    "ax.set_yscale(\"log\")\n",
    "ax.legend()\n",
    "\n",
    "plt.tight_layout()\n",
    "plt.savefig(\"label_distribution.png\", dpi=300)\n",
    "plt.show()"
   ]
  },
  {
   "attachments": {},
   "cell_type": "markdown",
   "metadata": {},
   "source": [
    "### To Binary Labels"
   ]
  },
  {
   "cell_type": "code",
   "execution_count": 25,
   "metadata": {},
   "outputs": [
    {
     "name": "stdout",
     "output_type": "stream",
     "text": [
      "Inspecting coronal label:  A101_CORONAL_T2_SEG.nii.gz\n",
      "Shape:  (37, 384, 306)\n",
      "Unique values:  [0. 1. 2.]\n",
      "Inspecting coronal label:  A102_CORONAL_T2_SEG.nii.gz\n",
      "Shape:  (34, 480, 480)\n",
      "Unique values:  [0. 1. 2.]\n",
      "Inspecting coronal label:  A103_CORONAL_T2_SEG.nii.gz\n",
      "Shape:  (40, 480, 480)\n",
      "Unique values:  [0. 1. 2.]\n",
      "Inspecting coronal label:  A104_CORONAL_T2_SEG.nii.gz\n",
      "Shape:  (45, 480, 480)\n",
      "Unique values:  [0. 1.]\n",
      "Inspecting coronal label:  A105_CORONAL_T2_SEG.nii.gz\n",
      "Shape:  (42, 512, 512)\n",
      "Unique values:  [0. 1.]\n",
      "Inspecting coronal label:  A106_CORONAL_T2_SEG.nii.gz\n",
      "Shape:  (42, 512, 512)\n",
      "Unique values:  [0. 1.]\n",
      "Inspecting coronal label:  A107_CORONAL_T2_SEG.nii.gz\n",
      "Shape:  (38, 512, 512)\n",
      "Unique values:  [0. 1.]\n",
      "Inspecting coronal label:  A108_CORONAL_T2_SEG.nii.gz\n",
      "Shape:  (38, 512, 512)\n",
      "Unique values:  [0. 1.]\n",
      "Inspecting coronal label:  A109_CORONAL_T2_SEG.nii.gz\n",
      "Shape:  (34, 480, 480)\n",
      "Unique values:  [0. 1.]\n",
      "Inspecting coronal label:  A110_CORONAL_T2_SEG.nii.gz\n",
      "Shape:  (38, 512, 512)\n",
      "Unique values:  [0. 1.]\n",
      "Inspecting coronal label:  A111_CORONAL_T2_SEG.nii.gz\n",
      "Shape:  (38, 512, 512)\n",
      "Unique values:  [0. 1.]\n",
      "Inspecting coronal label:  A112_CORONAL_T2_SEG.nii.gz\n",
      "Shape:  (38, 512, 512)\n",
      "Unique values:  [0. 1.]\n",
      "Inspecting coronal label:  A113_CORONAL_T2_SEG.nii.gz\n",
      "Shape:  (34, 448, 448)\n",
      "Unique values:  [0. 1.]\n",
      "Inspecting coronal label:  I101_CORONAL_T2_SEG.nii.gz\n",
      "Shape:  (38, 512, 512)\n",
      "Unique values:  [0. 1.]\n",
      "Inspecting coronal label:  I102_CORONAL_T2_SEG.nii.gz\n",
      "Shape:  (35, 480, 480)\n",
      "Unique values:  [0. 1.]\n",
      "Inspecting coronal label:  I103_CORONAL_T2_SEG.nii.gz\n",
      "Shape:  (34, 480, 480)\n",
      "Unique values:  [0. 1.]\n",
      "Inspecting coronal label:  I104_CORONAL_T2_SEG.nii.gz\n",
      "Shape:  (38, 512, 512)\n",
      "Unique values:  [0. 2.]\n",
      "Inspecting coronal label:  I105_CORONAL_T2_SEG.nii.gz\n",
      "Shape:  (38, 512, 512)\n",
      "Unique values:  [0. 1.]\n",
      "Inspecting coronal label:  I106_CORONAL_T2_SEG.nii.gz\n",
      "Shape:  (38, 512, 512)\n",
      "Unique values:  [0. 1.]\n",
      "Inspecting coronal label:  I107_CORONAL_T2_SEG.nii.gz\n",
      "Shape:  (34, 480, 480)\n",
      "Unique values:  [0. 1.]\n",
      "Inspecting coronal label:  I108_CORONAL_T2_SEG.nii.gz\n",
      "Shape:  (34, 480, 480)\n",
      "Unique values:  [0. 1.]\n",
      "Inspecting coronal label:  I109_CORONAL_T2_SEG.nii.gz\n",
      "Shape:  (34, 480, 480)\n",
      "Unique values:  [0. 1.]\n",
      "Inspecting coronal label:  I110_CORONAL_T2_SEG.nii.gz\n",
      "Shape:  (34, 480, 480)\n",
      "Unique values:  [0. 1.]\n",
      "Inspecting coronal label:  I111_CORONAL_T2_SEG.nii.gz\n",
      "Shape:  (34, 480, 480)\n",
      "Unique values:  [0. 1.]\n",
      "Inspecting coronal label:  I112_CORONAL_T2_SEG.nii.gz\n",
      "Shape:  (34, 480, 480)\n",
      "Unique values:  [0. 1.]\n",
      "Inspecting coronal label:  I113_CORONAL_T2_SEG.nii.gz\n",
      "Shape:  (34, 480, 480)\n",
      "Unique values:  [0. 1.]\n",
      "Inspecting coronal label:  I114_CORONAL_T2_SEG.nii.gz\n",
      "Shape:  (38, 528, 528)\n",
      "Unique values:  [0. 1.]\n",
      "Inspecting coronal label:  I115_CORONAL_T2_SEG.nii.gz\n",
      "Shape:  (38, 528, 528)\n",
      "Unique values:  [0. 1.]\n",
      "Inspecting coronal label:  I116_CORONAL_T2_SEG.nii.gz\n",
      "Shape:  (34, 480, 480)\n",
      "Unique values:  [0. 1.]\n",
      "Inspecting coronal label:  I117_CORONAL_T2_SEG.nii.gz\n",
      "Shape:  (34, 480, 480)\n",
      "Unique values:  [0. 1.]\n",
      "Inspecting coronal label:  I118_CORONAL_T2_SEG.nii.gz\n",
      "Shape:  (38, 512, 512)\n",
      "Unique values:  [0. 1.]\n",
      "Inspecting coronal label:  I119_CORONAL_T2_SEG.nii.gz\n",
      "Shape:  (38, 512, 512)\n",
      "Unique values:  [0. 1.]\n",
      "Inspecting coronal label:  I120_CORONAL_T2_SEG.nii.gz\n",
      "Shape:  (38, 512, 512)\n",
      "Unique values:  [0. 1.]\n"
     ]
    }
   ],
   "source": [
    "unique_values_dict = {}\n",
    "for coronal_label_path in sorted(coronal_labels_path):\n",
    "    print(\"Inspecting coronal label: \", coronal_label_path.name)\n",
    "    # read the image\n",
    "    sitk_coronal_label = sitk.ReadImage(str(coronal_label_path))\n",
    "    # convert to numpy array\n",
    "    data = sitk.GetArrayFromImage(sitk_coronal_label)\n",
    "\n",
    "    print(\"Shape: \", data.shape)\n",
    "    print(\"Unique values: \", np.unique(data))\n",
    "\n",
    "    key = tuple(np.unique(data))\n",
    "    if key not in unique_values_dict:\n",
    "        unique_values_dict[key] = []\n",
    "    \n",
    "    unique_values_dict[key].append(coronal_label_path.name)"
   ]
  },
  {
   "cell_type": "code",
   "execution_count": 26,
   "metadata": {},
   "outputs": [
    {
     "data": {
      "text/plain": [
       "{(0.0, 1.0, 2.0): ['A101_CORONAL_T2_SEG.nii.gz',\n",
       "  'A102_CORONAL_T2_SEG.nii.gz',\n",
       "  'A103_CORONAL_T2_SEG.nii.gz'],\n",
       " (0.0, 1.0): ['A104_CORONAL_T2_SEG.nii.gz',\n",
       "  'A105_CORONAL_T2_SEG.nii.gz',\n",
       "  'A106_CORONAL_T2_SEG.nii.gz',\n",
       "  'A107_CORONAL_T2_SEG.nii.gz',\n",
       "  'A108_CORONAL_T2_SEG.nii.gz',\n",
       "  'A109_CORONAL_T2_SEG.nii.gz',\n",
       "  'A110_CORONAL_T2_SEG.nii.gz',\n",
       "  'A111_CORONAL_T2_SEG.nii.gz',\n",
       "  'A112_CORONAL_T2_SEG.nii.gz',\n",
       "  'A113_CORONAL_T2_SEG.nii.gz',\n",
       "  'I101_CORONAL_T2_SEG.nii.gz',\n",
       "  'I102_CORONAL_T2_SEG.nii.gz',\n",
       "  'I103_CORONAL_T2_SEG.nii.gz',\n",
       "  'I105_CORONAL_T2_SEG.nii.gz',\n",
       "  'I106_CORONAL_T2_SEG.nii.gz',\n",
       "  'I107_CORONAL_T2_SEG.nii.gz',\n",
       "  'I108_CORONAL_T2_SEG.nii.gz',\n",
       "  'I109_CORONAL_T2_SEG.nii.gz',\n",
       "  'I110_CORONAL_T2_SEG.nii.gz',\n",
       "  'I111_CORONAL_T2_SEG.nii.gz',\n",
       "  'I112_CORONAL_T2_SEG.nii.gz',\n",
       "  'I113_CORONAL_T2_SEG.nii.gz',\n",
       "  'I114_CORONAL_T2_SEG.nii.gz',\n",
       "  'I115_CORONAL_T2_SEG.nii.gz',\n",
       "  'I116_CORONAL_T2_SEG.nii.gz',\n",
       "  'I117_CORONAL_T2_SEG.nii.gz',\n",
       "  'I118_CORONAL_T2_SEG.nii.gz',\n",
       "  'I119_CORONAL_T2_SEG.nii.gz',\n",
       "  'I120_CORONAL_T2_SEG.nii.gz'],\n",
       " (0.0, 2.0): ['I104_CORONAL_T2_SEG.nii.gz']}"
      ]
     },
     "execution_count": 26,
     "metadata": {},
     "output_type": "execute_result"
    }
   ],
   "source": [
    "unique_values_dict"
   ]
  },
  {
   "cell_type": "code",
   "execution_count": 27,
   "metadata": {},
   "outputs": [],
   "source": [
    "coronal_binary_labels_base = base_path.parent / \"labels_binary\"\n",
    "direction = \"coronal\"\n",
    "coronal_binary_labels_dir = coronal_binary_labels_base / direction\n",
    "if not coronal_binary_labels_dir.exists():\n",
    "    coronal_binary_labels_dir.mkdir(parents=True)"
   ]
  },
  {
   "cell_type": "code",
   "execution_count": 53,
   "metadata": {},
   "outputs": [
    {
     "name": "stdout",
     "output_type": "stream",
     "text": [
      "Rewriting label:  A101_CORONAL_T2_SEG.nii.gz\n",
      "Rewriting label:  A102_CORONAL_T2_SEG.nii.gz\n",
      "Rewriting label:  A103_CORONAL_T2_SEG.nii.gz\n",
      "Copying label:  A104_CORONAL_T2_SEG.nii.gz\n",
      "Copying label:  A105_CORONAL_T2_SEG.nii.gz\n",
      "Copying label:  A106_CORONAL_T2_SEG.nii.gz\n",
      "Copying label:  A107_CORONAL_T2_SEG.nii.gz\n",
      "Copying label:  A108_CORONAL_T2_SEG.nii.gz\n",
      "Copying label:  A109_CORONAL_T2_SEG.nii.gz\n",
      "Copying label:  A110_CORONAL_T2_SEG.nii.gz\n",
      "Copying label:  A111_CORONAL_T2_SEG.nii.gz\n",
      "Copying label:  A112_CORONAL_T2_SEG.nii.gz\n",
      "Copying label:  A113_CORONAL_T2_SEG.nii.gz\n",
      "Copying label:  I101_CORONAL_T2_SEG.nii.gz\n",
      "Copying label:  I102_CORONAL_T2_SEG.nii.gz\n",
      "Copying label:  I103_CORONAL_T2_SEG.nii.gz\n",
      "Copying label:  I105_CORONAL_T2_SEG.nii.gz\n",
      "Copying label:  I106_CORONAL_T2_SEG.nii.gz\n",
      "Copying label:  I107_CORONAL_T2_SEG.nii.gz\n",
      "Copying label:  I108_CORONAL_T2_SEG.nii.gz\n",
      "Copying label:  I109_CORONAL_T2_SEG.nii.gz\n",
      "Copying label:  I110_CORONAL_T2_SEG.nii.gz\n",
      "Copying label:  I111_CORONAL_T2_SEG.nii.gz\n",
      "Copying label:  I112_CORONAL_T2_SEG.nii.gz\n",
      "Copying label:  I113_CORONAL_T2_SEG.nii.gz\n",
      "Copying label:  I114_CORONAL_T2_SEG.nii.gz\n",
      "Copying label:  I115_CORONAL_T2_SEG.nii.gz\n",
      "Copying label:  I116_CORONAL_T2_SEG.nii.gz\n",
      "Copying label:  I117_CORONAL_T2_SEG.nii.gz\n",
      "Copying label:  I118_CORONAL_T2_SEG.nii.gz\n",
      "Copying label:  I119_CORONAL_T2_SEG.nii.gz\n",
      "Copying label:  I120_CORONAL_T2_SEG.nii.gz\n",
      "Rewriting label:  I104_CORONAL_T2_SEG.nii.gz\n"
     ]
    }
   ],
   "source": [
    "import shutil\n",
    "for keys, values in unique_values_dict.items():\n",
    "    if keys != (0., 1.):\n",
    "        # rewrite any label > 0 to 1\n",
    "        for coronal_label_path in values:\n",
    "            print(\"Rewriting label: \", coronal_label_path)\n",
    "            sitk_coronal_label = sitk.ReadImage(str(coronal_labels_dir / coronal_label_path))\n",
    "            data = sitk.GetArrayFromImage(sitk_coronal_label)\n",
    "            data[data > 0] = 1\n",
    "            sitk_coronal_label = sitk.GetImageFromArray(data)\n",
    "            sitk_coronal_label.CopyInformation(sitk.ReadImage(str(coronal_labels_dir / coronal_label_path)))\n",
    "            sitk.WriteImage(sitk_coronal_label, str(coronal_binary_labels_dir / coronal_label_path))\n",
    "    else:\n",
    "        # copy the label as is\n",
    "        for coronal_label_path in values:\n",
    "            print(\"Copying label: \", coronal_label_path)\n",
    "            shutil.copy(str(coronal_labels_dir / coronal_label_path), str(coronal_binary_labels_dir / coronal_label_path))"
   ]
  },
  {
   "cell_type": "code",
   "execution_count": 32,
   "metadata": {},
   "outputs": [
    {
     "name": "stdout",
     "output_type": "stream",
     "text": [
      "Inspecting coronal label:  A101_CORONAL_T2_SEG.nii.gz\n",
      "Shape:  (37, 384, 306)\n",
      "Unique values:  [0. 1.]\n",
      "Inspecting coronal label:  A102_CORONAL_T2_SEG.nii.gz\n",
      "Shape:  (34, 480, 480)\n",
      "Unique values:  [0. 1.]\n",
      "Inspecting coronal label:  A103_CORONAL_T2_SEG.nii.gz\n",
      "Shape:  (40, 480, 480)\n",
      "Unique values:  [0. 1.]\n",
      "Inspecting coronal label:  A104_CORONAL_T2_SEG.nii.gz\n",
      "Shape:  (45, 480, 480)\n",
      "Unique values:  [0. 1.]\n",
      "Inspecting coronal label:  A105_CORONAL_T2_SEG.nii.gz\n",
      "Shape:  (42, 512, 512)\n",
      "Unique values:  [0. 1.]\n",
      "Inspecting coronal label:  A106_CORONAL_T2_SEG.nii.gz\n",
      "Shape:  (42, 512, 512)\n",
      "Unique values:  [0. 1.]\n",
      "Inspecting coronal label:  A107_CORONAL_T2_SEG.nii.gz\n",
      "Shape:  (38, 512, 512)\n",
      "Unique values:  [0. 1.]\n",
      "Inspecting coronal label:  A108_CORONAL_T2_SEG.nii.gz\n",
      "Shape:  (38, 512, 512)\n",
      "Unique values:  [0. 1.]\n",
      "Inspecting coronal label:  A109_CORONAL_T2_SEG.nii.gz\n",
      "Shape:  (34, 480, 480)\n",
      "Unique values:  [0. 1.]\n",
      "Inspecting coronal label:  A110_CORONAL_T2_SEG.nii.gz\n",
      "Shape:  (38, 512, 512)\n",
      "Unique values:  [0. 1.]\n",
      "Inspecting coronal label:  A111_CORONAL_T2_SEG.nii.gz\n",
      "Shape:  (38, 512, 512)\n",
      "Unique values:  [0. 1.]\n",
      "Inspecting coronal label:  A112_CORONAL_T2_SEG.nii.gz\n",
      "Shape:  (38, 512, 512)\n",
      "Unique values:  [0. 1.]\n",
      "Inspecting coronal label:  A113_CORONAL_T2_SEG.nii.gz\n",
      "Shape:  (34, 448, 448)\n",
      "Unique values:  [0. 1.]\n",
      "Inspecting coronal label:  I101_CORONAL_T2_SEG.nii.gz\n",
      "Shape:  (38, 512, 512)\n",
      "Unique values:  [0. 1.]\n",
      "Inspecting coronal label:  I102_CORONAL_T2_SEG.nii.gz\n",
      "Shape:  (35, 480, 480)\n",
      "Unique values:  [0. 1.]\n",
      "Inspecting coronal label:  I103_CORONAL_T2_SEG.nii.gz\n",
      "Shape:  (34, 480, 480)\n",
      "Unique values:  [0. 1.]\n",
      "Inspecting coronal label:  I104_CORONAL_T2_SEG.nii.gz\n",
      "Shape:  (38, 512, 512)\n",
      "Unique values:  [0. 1.]\n",
      "Inspecting coronal label:  I105_CORONAL_T2_SEG.nii.gz\n",
      "Shape:  (38, 512, 512)\n",
      "Unique values:  [0. 1.]\n",
      "Inspecting coronal label:  I106_CORONAL_T2_SEG.nii.gz\n",
      "Shape:  (38, 512, 512)\n",
      "Unique values:  [0. 1.]\n",
      "Inspecting coronal label:  I107_CORONAL_T2_SEG.nii.gz\n",
      "Shape:  (34, 480, 480)\n",
      "Unique values:  [0. 1.]\n",
      "Inspecting coronal label:  I108_CORONAL_T2_SEG.nii.gz\n",
      "Shape:  (34, 480, 480)\n",
      "Unique values:  [0. 1.]\n",
      "Inspecting coronal label:  I109_CORONAL_T2_SEG.nii.gz\n",
      "Shape:  (34, 480, 480)\n",
      "Unique values:  [0. 1.]\n",
      "Inspecting coronal label:  I110_CORONAL_T2_SEG.nii.gz\n",
      "Shape:  (34, 480, 480)\n",
      "Unique values:  [0. 1.]\n",
      "Inspecting coronal label:  I111_CORONAL_T2_SEG.nii.gz\n",
      "Shape:  (34, 480, 480)\n",
      "Unique values:  [0. 1.]\n",
      "Inspecting coronal label:  I112_CORONAL_T2_SEG.nii.gz\n",
      "Shape:  (34, 480, 480)\n",
      "Unique values:  [0. 1.]\n",
      "Inspecting coronal label:  I113_CORONAL_T2_SEG.nii.gz\n",
      "Shape:  (34, 480, 480)\n",
      "Unique values:  [0. 1.]\n",
      "Inspecting coronal label:  I114_CORONAL_T2_SEG.nii.gz\n",
      "Shape:  (38, 528, 528)\n",
      "Unique values:  [0. 1.]\n",
      "Inspecting coronal label:  I115_CORONAL_T2_SEG.nii.gz\n",
      "Shape:  (38, 528, 528)\n",
      "Unique values:  [0. 1.]\n",
      "Inspecting coronal label:  I116_CORONAL_T2_SEG.nii.gz\n",
      "Shape:  (34, 480, 480)\n",
      "Unique values:  [0. 1.]\n",
      "Inspecting coronal label:  I117_CORONAL_T2_SEG.nii.gz\n",
      "Shape:  (34, 480, 480)\n",
      "Unique values:  [0. 1.]\n",
      "Inspecting coronal label:  I118_CORONAL_T2_SEG.nii.gz\n",
      "Shape:  (38, 512, 512)\n",
      "Unique values:  [0. 1.]\n",
      "Inspecting coronal label:  I119_CORONAL_T2_SEG.nii.gz\n",
      "Shape:  (38, 512, 512)\n",
      "Unique values:  [0. 1.]\n",
      "Inspecting coronal label:  I120_CORONAL_T2_SEG.nii.gz\n",
      "Shape:  (38, 512, 512)\n",
      "Unique values:  [0. 1.]\n"
     ]
    }
   ],
   "source": [
    "unique_values_dict_reformatted = {}\n",
    "\n",
    "for coronal_label_path in sorted(coronal_binary_labels_dir.iterdir()):\n",
    "    print(\"Inspecting coronal label: \", coronal_label_path.name)\n",
    "    # read the image\n",
    "    sitk_coronal_label = sitk.ReadImage(str(coronal_label_path))\n",
    "    # convert to numpy array\n",
    "    data = sitk.GetArrayFromImage(sitk_coronal_label)\n",
    "\n",
    "    print(\"Shape: \", data.shape)\n",
    "    print(\"Unique values: \", np.unique(data))\n",
    "\n",
    "    key = tuple(np.unique(data))\n",
    "    if key not in unique_values_dict_reformatted:\n",
    "        unique_values_dict_reformatted[key] = []\n",
    "    \n",
    "    unique_values_dict_reformatted[key].append(coronal_label_path.name)"
   ]
  },
  {
   "cell_type": "code",
   "execution_count": 33,
   "metadata": {},
   "outputs": [
    {
     "data": {
      "text/plain": [
       "{(0.0, 1.0): ['A101_CORONAL_T2_SEG.nii.gz',\n",
       "  'A102_CORONAL_T2_SEG.nii.gz',\n",
       "  'A103_CORONAL_T2_SEG.nii.gz',\n",
       "  'A104_CORONAL_T2_SEG.nii.gz',\n",
       "  'A105_CORONAL_T2_SEG.nii.gz',\n",
       "  'A106_CORONAL_T2_SEG.nii.gz',\n",
       "  'A107_CORONAL_T2_SEG.nii.gz',\n",
       "  'A108_CORONAL_T2_SEG.nii.gz',\n",
       "  'A109_CORONAL_T2_SEG.nii.gz',\n",
       "  'A110_CORONAL_T2_SEG.nii.gz',\n",
       "  'A111_CORONAL_T2_SEG.nii.gz',\n",
       "  'A112_CORONAL_T2_SEG.nii.gz',\n",
       "  'A113_CORONAL_T2_SEG.nii.gz',\n",
       "  'I101_CORONAL_T2_SEG.nii.gz',\n",
       "  'I102_CORONAL_T2_SEG.nii.gz',\n",
       "  'I103_CORONAL_T2_SEG.nii.gz',\n",
       "  'I104_CORONAL_T2_SEG.nii.gz',\n",
       "  'I105_CORONAL_T2_SEG.nii.gz',\n",
       "  'I106_CORONAL_T2_SEG.nii.gz',\n",
       "  'I107_CORONAL_T2_SEG.nii.gz',\n",
       "  'I108_CORONAL_T2_SEG.nii.gz',\n",
       "  'I109_CORONAL_T2_SEG.nii.gz',\n",
       "  'I110_CORONAL_T2_SEG.nii.gz',\n",
       "  'I111_CORONAL_T2_SEG.nii.gz',\n",
       "  'I112_CORONAL_T2_SEG.nii.gz',\n",
       "  'I113_CORONAL_T2_SEG.nii.gz',\n",
       "  'I114_CORONAL_T2_SEG.nii.gz',\n",
       "  'I115_CORONAL_T2_SEG.nii.gz',\n",
       "  'I116_CORONAL_T2_SEG.nii.gz',\n",
       "  'I117_CORONAL_T2_SEG.nii.gz',\n",
       "  'I118_CORONAL_T2_SEG.nii.gz',\n",
       "  'I119_CORONAL_T2_SEG.nii.gz',\n",
       "  'I120_CORONAL_T2_SEG.nii.gz']}"
      ]
     },
     "execution_count": 33,
     "metadata": {},
     "output_type": "execute_result"
    }
   ],
   "source": [
    "unique_values_dict_reformatted"
   ]
  },
  {
   "cell_type": "code",
   "execution_count": 34,
   "metadata": {},
   "outputs": [],
   "source": [
    "def inspect_labels(labels_dir):\n",
    "    unique_values_dict = {}\n",
    "    for label_path in sorted(labels_dir.iterdir()):\n",
    "        print(\"Inspecting label: \", label_path.name)\n",
    "        # read the image\n",
    "        sitk_label = sitk.ReadImage(str(label_path))\n",
    "        # convert to numpy array\n",
    "        data = sitk.GetArrayFromImage(sitk_label)\n",
    "\n",
    "        print(\"Shape: \", data.shape)\n",
    "        print(\"Unique values: \", np.unique(data))\n",
    "\n",
    "        key = tuple(np.unique(data))\n",
    "        if key not in unique_values_dict:\n",
    "            unique_values_dict[key] = []\n",
    "        \n",
    "        unique_values_dict[key].append(label_path.name)\n",
    "    return unique_values_dict"
   ]
  },
  {
   "cell_type": "code",
   "execution_count": 29,
   "metadata": {},
   "outputs": [
    {
     "name": "stdout",
     "output_type": "stream",
     "text": [
      "Inspecting label:  A101_AXIAL_T2_SEG.nii.gz\n",
      "Shape:  (79, 258, 384)\n",
      "Unique values:  [0 1 2 3 4 6]\n",
      "Inspecting label:  A102_AXIAL_T2_SEG.nii.gz\n",
      "Shape:  (72, 480, 480)\n",
      "Unique values:  [0 1 2 3 6]\n",
      "Inspecting label:  A103_AXIAL_T2_SEG.nii.gz\n",
      "Shape:  (84, 480, 480)\n",
      "Unique values:  [0 1 2 3 6]\n",
      "Inspecting label:  A104_AXIAL_T2_SEG.nii.gz\n",
      "Shape:  (81, 480, 480)\n",
      "Unique values:  [0 1 3 6]\n",
      "Inspecting label:  A105_AXIAL_T2_SEG.nii.gz\n",
      "Shape:  (78, 512, 512)\n",
      "Unique values:  [0 1 3 6]\n",
      "Inspecting label:  A106_AXIAL_T2_SEG.nii.gz\n",
      "Shape:  (78, 512, 512)\n",
      "Unique values:  [0 1 3]\n",
      "Inspecting label:  A107_AXIAL_T2_SEG.nii.gz\n",
      "Shape:  (78, 512, 512)\n",
      "Unique values:  [0 1 3 6]\n",
      "Inspecting label:  A108_AXIAL_T2_SEG.nii.gz\n",
      "Shape:  (86, 512, 512)\n",
      "Unique values:  [0 1 3]\n",
      "Inspecting label:  A109_AXIAL_T2_SEG.nii.gz\n",
      "Shape:  (78, 512, 512)\n",
      "Unique values:  [0 1 3 6]\n",
      "Inspecting label:  A110_AXIAL_T2_SEG.nii.gz\n",
      "Shape:  (78, 512, 512)\n",
      "Unique values:  [0 1 3]\n",
      "Inspecting label:  A111_AXIAL_T2_SEG.nii.gz\n",
      "Shape:  (78, 512, 512)\n",
      "Unique values:  [0 1 3 6]\n",
      "Inspecting label:  A112_AXIAL_T2_SEG.nii.gz\n",
      "Shape:  (78, 512, 512)\n",
      "Unique values:  [0 1 3]\n",
      "Inspecting label:  A113_AXIAL_T2_SEG.nii.gz\n",
      "Shape:  (78, 432, 432)\n",
      "Unique values:  [0 1 3 6]\n",
      "Inspecting label:  I101_AXIAL_T2_SEG.nii.gz\n",
      "Shape:  (78, 512, 512)\n",
      "Unique values:  [0 1 3]\n",
      "Inspecting label:  I102_AXIAL_T2_SEG.nii.gz\n",
      "Shape:  (76, 480, 480)\n",
      "Unique values:  [0 1 3 6]\n",
      "Inspecting label:  I103_AXIAL_T2_SEG.nii.gz\n",
      "Shape:  (72, 480, 480)\n",
      "Unique values:  [0 1 3 6]\n",
      "Inspecting label:  I104_AXIAL_T2_SEG.nii.gz\n",
      "Shape:  (78, 512, 512)\n",
      "Unique values:  [0 2 3]\n",
      "Inspecting label:  I105_AXIAL_T2_SEG.nii.gz\n",
      "Shape:  (78, 512, 512)\n",
      "Unique values:  [0 1 3 6]\n",
      "Inspecting label:  I106_AXIAL_T2_SEG.nii.gz\n",
      "Shape:  (78, 512, 512)\n",
      "Unique values:  [0 1 3]\n",
      "Inspecting label:  I107_AXIAL_T2_SEG.nii.gz\n",
      "Shape:  (72, 480, 480)\n",
      "Unique values:  [0 1 3 6]\n",
      "Inspecting label:  I108_AXIAL_T2_SEG.nii.gz\n",
      "Shape:  (72, 480, 480)\n",
      "Unique values:  [0 1 3 6]\n",
      "Inspecting label:  I109_AXIAL_T2_SEG.nii.gz\n",
      "Shape:  (72, 480, 480)\n",
      "Unique values:  [0 1 3 6]\n",
      "Inspecting label:  I110_AXIAL_T2_SEG.nii.gz\n",
      "Shape:  (72, 480, 480)\n",
      "Unique values:  [0 1 3]\n",
      "Inspecting label:  I111_AXIAL_T2_SEG.nii.gz\n",
      "Shape:  (72, 480, 480)\n",
      "Unique values:  [0 1 3 6]\n",
      "Inspecting label:  I112_AXIAL_T2_SEG.nii.gz\n",
      "Shape:  (72, 480, 480)\n",
      "Unique values:  [0 1 3 6]\n",
      "Inspecting label:  I113_AXIAL_T2_SEG.nii.gz\n",
      "Shape:  (72, 480, 480)\n",
      "Unique values:  [0 1 3 6]\n",
      "Inspecting label:  I114_AXIAL_T2_SEG.nii.gz\n",
      "Shape:  (78, 528, 528)\n",
      "Unique values:  [0 1 3]\n",
      "Inspecting label:  I115_AXIAL_T2_SEG.nii.gz\n",
      "Shape:  (78, 528, 528)\n",
      "Unique values:  [0 1 3 6]\n",
      "Inspecting label:  I116_AXIAL_T2_SEG.nii.gz\n",
      "Shape:  (72, 432, 432)\n",
      "Unique values:  [0 1 3 6]\n",
      "Inspecting label:  I117_AXIAL_T2_SEG.nii.gz\n",
      "Shape:  (72, 432, 432)\n",
      "Unique values:  [0 1 3 6]\n",
      "Inspecting label:  I118_AXIAL_T2_SEG.nii.gz\n",
      "Shape:  (78, 512, 512)\n",
      "Unique values:  [0 1 3 6]\n",
      "Inspecting label:  I119_AXIAL_T2_SEG.nii.gz\n",
      "Shape:  (78, 512, 512)\n",
      "Unique values:  [0 1 3]\n",
      "Inspecting label:  I120_AXIAL_T2_SEG.nii.gz\n",
      "Shape:  (78, 512, 512)\n",
      "Unique values:  [0 1 3 6]\n"
     ]
    }
   ],
   "source": [
    "axial_t2_unique_values = inspect_labels(coronal_labels_dir.parent / \"axial\" / \"t2\")"
   ]
  },
  {
   "cell_type": "code",
   "execution_count": 35,
   "metadata": {},
   "outputs": [],
   "source": [
    "def covert_to_binary_labels(unique_values_dict, labels_dir, binary_labels_dir):\n",
    "    if not binary_labels_dir.exists():\n",
    "        binary_labels_dir.mkdir(parents=True)\n",
    "    for keys, values in unique_values_dict.items():\n",
    "        if keys != (0., 1.):\n",
    "            # rewrite any label > 0 to 1\n",
    "            for label_path in values:\n",
    "                print(\"Rewriting label: \", label_path)\n",
    "                sitk_label = sitk.ReadImage(str(labels_dir / label_path))\n",
    "                data = sitk.GetArrayFromImage(sitk_label)\n",
    "                data[data > 0] = 1\n",
    "                sitk_label = sitk.GetImageFromArray(data)\n",
    "                sitk_label.CopyInformation(sitk.ReadImage(str(labels_dir / label_path)))\n",
    "                sitk.WriteImage(sitk_label, str(binary_labels_dir / label_path))\n",
    "        else:\n",
    "            # copy the label as is\n",
    "            for label_path in values:\n",
    "                print(\"Copying label: \", label_path)\n",
    "                shutil.copy(str(labels_dir / label_path), str(binary_labels_dir / label_path))"
   ]
  },
  {
   "cell_type": "code",
   "execution_count": 32,
   "metadata": {},
   "outputs": [
    {
     "name": "stdout",
     "output_type": "stream",
     "text": [
      "Rewriting label:  A101_AXIAL_T2_SEG.nii.gz\n",
      "Rewriting label:  A102_AXIAL_T2_SEG.nii.gz\n",
      "Rewriting label:  A103_AXIAL_T2_SEG.nii.gz\n",
      "Rewriting label:  A104_AXIAL_T2_SEG.nii.gz\n",
      "Rewriting label:  A105_AXIAL_T2_SEG.nii.gz\n",
      "Rewriting label:  A107_AXIAL_T2_SEG.nii.gz\n",
      "Rewriting label:  A109_AXIAL_T2_SEG.nii.gz\n",
      "Rewriting label:  A111_AXIAL_T2_SEG.nii.gz\n",
      "Rewriting label:  A113_AXIAL_T2_SEG.nii.gz\n",
      "Rewriting label:  I102_AXIAL_T2_SEG.nii.gz\n",
      "Rewriting label:  I103_AXIAL_T2_SEG.nii.gz\n",
      "Rewriting label:  I105_AXIAL_T2_SEG.nii.gz\n",
      "Rewriting label:  I107_AXIAL_T2_SEG.nii.gz\n",
      "Rewriting label:  I108_AXIAL_T2_SEG.nii.gz\n",
      "Rewriting label:  I109_AXIAL_T2_SEG.nii.gz\n",
      "Rewriting label:  I111_AXIAL_T2_SEG.nii.gz\n",
      "Rewriting label:  I112_AXIAL_T2_SEG.nii.gz\n",
      "Rewriting label:  I113_AXIAL_T2_SEG.nii.gz\n",
      "Rewriting label:  I115_AXIAL_T2_SEG.nii.gz\n",
      "Rewriting label:  I116_AXIAL_T2_SEG.nii.gz\n",
      "Rewriting label:  I117_AXIAL_T2_SEG.nii.gz\n",
      "Rewriting label:  I118_AXIAL_T2_SEG.nii.gz\n",
      "Rewriting label:  I120_AXIAL_T2_SEG.nii.gz\n",
      "Rewriting label:  A106_AXIAL_T2_SEG.nii.gz\n",
      "Rewriting label:  A108_AXIAL_T2_SEG.nii.gz\n",
      "Rewriting label:  A110_AXIAL_T2_SEG.nii.gz\n",
      "Rewriting label:  A112_AXIAL_T2_SEG.nii.gz\n",
      "Rewriting label:  I101_AXIAL_T2_SEG.nii.gz\n",
      "Rewriting label:  I106_AXIAL_T2_SEG.nii.gz\n",
      "Rewriting label:  I110_AXIAL_T2_SEG.nii.gz\n",
      "Rewriting label:  I114_AXIAL_T2_SEG.nii.gz\n",
      "Rewriting label:  I119_AXIAL_T2_SEG.nii.gz\n",
      "Rewriting label:  I104_AXIAL_T2_SEG.nii.gz\n"
     ]
    }
   ],
   "source": [
    "covert_to_binary_labels(axial_t2_unique_values, coronal_labels_dir.parent / \"axial\" / \"t2\", coronal_binary_labels_dir.parent / \"axial\" / \"t2\")"
   ]
  },
  {
   "cell_type": "code",
   "execution_count": 33,
   "metadata": {},
   "outputs": [
    {
     "name": "stdout",
     "output_type": "stream",
     "text": [
      "Inspecting label:  A101_AXIAL_POSTCON_SEG.nii.gz\n",
      "Shape:  (120, 240, 320)\n",
      "Unique values:  [0 1 2 3 4 6]\n",
      "Inspecting label:  A102_AXIAL_POSTCON_SEG.nii.gz\n",
      "Shape:  (110, 480, 480)\n",
      "Unique values:  [0 1 2 3 6]\n",
      "Inspecting label:  A103_AXIAL_POSTCON_SEG.nii.gz\n",
      "Shape:  (120, 480, 480)\n",
      "Unique values:  [0 1 2 3 6]\n",
      "Inspecting label:  A104_AXIAL_POSTCON_SEG.nii.gz\n",
      "Shape:  (130, 480, 480)\n",
      "Unique values:  [0 1 3 6]\n",
      "Inspecting label:  A105_AXIAL_POSTCON_SEG.nii.gz\n",
      "Shape:  (114, 512, 512)\n",
      "Unique values:  [0 1 3 6]\n",
      "Inspecting label:  A106_AXIAL_POSTCON_SEG.nii.gz\n",
      "Shape:  (114, 512, 512)\n",
      "Unique values:  [0 1 3]\n",
      "Inspecting label:  A107_AXIAL_POSTCON_SEG.nii.gz\n",
      "Shape:  (114, 512, 512)\n",
      "Unique values:  [0 1 3 6]\n",
      "Inspecting label:  A108_AXIAL_POSTCON_SEG.nii.gz\n",
      "Shape:  (114, 512, 512)\n",
      "Unique values:  [0 1 3]\n",
      "Inspecting label:  A109_AXIAL_POSTCON_SEG.nii.gz\n",
      "Shape:  (114, 512, 512)\n",
      "Unique values:  [0 1 3 6]\n",
      "Inspecting label:  A110_AXIAL_POSTCON_SEG.nii.gz\n",
      "Shape:  (114, 512, 512)\n",
      "Unique values:  [0 1 3]\n",
      "Inspecting label:  A111_AXIAL_POSTCON_SEG.nii.gz\n",
      "Shape:  (114, 512, 512)\n",
      "Unique values:  [0 1 3 6]\n",
      "Inspecting label:  A112_AXIAL_POSTCON_SEG.nii.gz\n",
      "Shape:  (114, 512, 512)\n",
      "Unique values:  [0 1 3]\n",
      "Inspecting label:  A113_AXIAL_POSTCON_SEG.nii.gz\n",
      "Shape:  (100, 480, 480)\n",
      "Unique values:  [0 1 3 6]\n",
      "Inspecting label:  I101_AXIAL_POSTCON_SEG.nii.gz\n",
      "Shape:  (114, 512, 512)\n",
      "Unique values:  [0 1 3]\n",
      "Inspecting label:  I102_AXIAL_POSTCON_SEG.nii.gz\n",
      "Shape:  (110, 480, 480)\n",
      "Unique values:  [0 1 3 6]\n",
      "Inspecting label:  I103_AXIAL_POSTCON_SEG.nii.gz\n",
      "Shape:  (110, 480, 480)\n",
      "Unique values:  [0 1 3 6]\n",
      "Inspecting label:  I104_AXIAL_POSTCON_SEG.nii.gz\n",
      "Shape:  (114, 512, 512)\n",
      "Unique values:  [0 2 3]\n",
      "Inspecting label:  I105_AXIAL_POSTCON_SEG.nii.gz\n",
      "Shape:  (114, 512, 512)\n",
      "Unique values:  [0 1 3 6]\n",
      "Inspecting label:  I106_AXIAL_POSTCON_SEG.nii.gz\n",
      "Shape:  (114, 512, 512)\n",
      "Unique values:  [0 1 3]\n",
      "Inspecting label:  I107_AXIAL_POSTCON_SEG.nii.gz\n",
      "Shape:  (110, 480, 480)\n",
      "Unique values:  [0 1 3 6]\n",
      "Inspecting label:  I108_AXIAL_POSTCON_SEG.nii.gz\n",
      "Shape:  (110, 480, 480)\n",
      "Unique values:  [0 1 3 6]\n",
      "Inspecting label:  I109_AXIAL_POSTCON_SEG.nii.gz\n",
      "Shape:  (110, 480, 480)\n",
      "Unique values:  [0 1 3 6]\n",
      "Inspecting label:  I110_AXIAL_POSTCON_SEG.nii.gz\n",
      "Shape:  (110, 480, 480)\n",
      "Unique values:  [0 1 3]\n",
      "Inspecting label:  I111_AXIAL_POSTCON_SEG.nii.gz\n",
      "Shape:  (110, 480, 480)\n",
      "Unique values:  [0 1 3 6]\n",
      "Inspecting label:  I112_AXIAL_POSTCON_SEG.nii.gz\n",
      "Shape:  (110, 480, 480)\n",
      "Unique values:  [0 1 3 6]\n",
      "Inspecting label:  I113_AXIAL_POSTCON_SEG.nii.gz\n",
      "Shape:  (110, 480, 480)\n",
      "Unique values:  [0 1 3 6]\n",
      "Inspecting label:  I114_AXIAL_POSTCON_SEG.nii.gz\n",
      "Shape:  (100, 512, 512)\n",
      "Unique values:  [0 1 3]\n",
      "Inspecting label:  I115_AXIAL_POSTCON_SEG.nii.gz\n",
      "Shape:  (100, 512, 512)\n",
      "Unique values:  [0 1 3]\n",
      "Inspecting label:  I116_AXIAL_POSTCON_SEG.nii.gz\n",
      "Shape:  (110, 432, 432)\n",
      "Unique values:  [0 1 3]\n",
      "Inspecting label:  I117_AXIAL_POSTCON_SEG.nii.gz\n",
      "Shape:  (110, 448, 448)\n",
      "Unique values:  [0 1 3 6]\n",
      "Inspecting label:  I118_AXIAL_POSTCON_SEG.nii.gz\n",
      "Shape:  (114, 512, 512)\n",
      "Unique values:  [0 1 3 6]\n",
      "Inspecting label:  I119_AXIAL_POSTCON_SEG.nii.gz\n",
      "Shape:  (114, 512, 512)\n",
      "Unique values:  [0 1 3]\n",
      "Inspecting label:  I120_AXIAL_POSTCON_SEG.nii.gz\n",
      "Shape:  (114, 512, 512)\n",
      "Unique values:  [0 1 3 6]\n"
     ]
    }
   ],
   "source": [
    "axial_postcon_unique_values = inspect_labels(coronal_labels_dir.parent / \"axial\" / \"postcon\")"
   ]
  },
  {
   "cell_type": "code",
   "execution_count": 34,
   "metadata": {},
   "outputs": [
    {
     "name": "stdout",
     "output_type": "stream",
     "text": [
      "Rewriting label:  A101_AXIAL_POSTCON_SEG.nii.gz\n",
      "Rewriting label:  A102_AXIAL_POSTCON_SEG.nii.gz\n",
      "Rewriting label:  A103_AXIAL_POSTCON_SEG.nii.gz\n",
      "Rewriting label:  A104_AXIAL_POSTCON_SEG.nii.gz\n",
      "Rewriting label:  A105_AXIAL_POSTCON_SEG.nii.gz\n",
      "Rewriting label:  A107_AXIAL_POSTCON_SEG.nii.gz\n",
      "Rewriting label:  A109_AXIAL_POSTCON_SEG.nii.gz\n",
      "Rewriting label:  A111_AXIAL_POSTCON_SEG.nii.gz\n",
      "Rewriting label:  A113_AXIAL_POSTCON_SEG.nii.gz\n",
      "Rewriting label:  I102_AXIAL_POSTCON_SEG.nii.gz\n",
      "Rewriting label:  I103_AXIAL_POSTCON_SEG.nii.gz\n",
      "Rewriting label:  I105_AXIAL_POSTCON_SEG.nii.gz\n",
      "Rewriting label:  I107_AXIAL_POSTCON_SEG.nii.gz\n",
      "Rewriting label:  I108_AXIAL_POSTCON_SEG.nii.gz\n",
      "Rewriting label:  I109_AXIAL_POSTCON_SEG.nii.gz\n",
      "Rewriting label:  I111_AXIAL_POSTCON_SEG.nii.gz\n",
      "Rewriting label:  I112_AXIAL_POSTCON_SEG.nii.gz\n",
      "Rewriting label:  I113_AXIAL_POSTCON_SEG.nii.gz\n",
      "Rewriting label:  I117_AXIAL_POSTCON_SEG.nii.gz\n",
      "Rewriting label:  I118_AXIAL_POSTCON_SEG.nii.gz\n",
      "Rewriting label:  I120_AXIAL_POSTCON_SEG.nii.gz\n",
      "Rewriting label:  A106_AXIAL_POSTCON_SEG.nii.gz\n",
      "Rewriting label:  A108_AXIAL_POSTCON_SEG.nii.gz\n",
      "Rewriting label:  A110_AXIAL_POSTCON_SEG.nii.gz\n",
      "Rewriting label:  A112_AXIAL_POSTCON_SEG.nii.gz\n",
      "Rewriting label:  I101_AXIAL_POSTCON_SEG.nii.gz\n",
      "Rewriting label:  I106_AXIAL_POSTCON_SEG.nii.gz\n",
      "Rewriting label:  I110_AXIAL_POSTCON_SEG.nii.gz\n",
      "Rewriting label:  I114_AXIAL_POSTCON_SEG.nii.gz\n",
      "Rewriting label:  I115_AXIAL_POSTCON_SEG.nii.gz\n",
      "Rewriting label:  I116_AXIAL_POSTCON_SEG.nii.gz\n",
      "Rewriting label:  I119_AXIAL_POSTCON_SEG.nii.gz\n",
      "Rewriting label:  I104_AXIAL_POSTCON_SEG.nii.gz\n"
     ]
    }
   ],
   "source": [
    "covert_to_binary_labels(axial_postcon_unique_values, coronal_labels_dir.parent / \"axial\" / \"postcon\", coronal_binary_labels_dir.parent / \"axial\" / \"postcon\")"
   ]
  },
  {
   "cell_type": "code",
   "execution_count": 37,
   "metadata": {},
   "outputs": [
    {
     "name": "stdout",
     "output_type": "stream",
     "text": [
      "Inspecting label:  A005_AXIAL_T2_SEG.nii.gz\n",
      "Shape:  (72, 480, 480)\n",
      "Unique values:  [0 1 2]\n",
      "Inspecting label:  A006_AXIAL_T2_SEG.nii.gz\n",
      "Shape:  (84, 512, 512)\n",
      "Unique values:  [0 1 2]\n",
      "Inspecting label:  A008_AXIAL_T2_SEG.nii.gz\n",
      "Shape:  (72, 432, 432)\n",
      "Unique values:  [0 1 2]\n",
      "Inspecting label:  A012_AXIAL_T2_SEG.nii.gz\n",
      "Shape:  (72, 480, 480)\n",
      "Unique values:  [0 1 2]\n",
      "Inspecting label:  A015_AXIAL_T2_SEG.nii.gz\n",
      "Shape:  (72, 480, 480)\n",
      "Unique values:  [0 1 2]\n"
     ]
    }
   ],
   "source": [
    "labels_annotations_dir = coronal_labels_dir.parent.parent / \"labels_annotated\"\n",
    "\n",
    "axial_t2_annotated_unique_values = inspect_labels(labels_annotations_dir / \"axial\")"
   ]
  },
  {
   "cell_type": "code",
   "execution_count": 39,
   "metadata": {},
   "outputs": [
    {
     "name": "stdout",
     "output_type": "stream",
     "text": [
      "Rewriting label:  A005_AXIAL_T2_SEG.nii.gz\n",
      "Rewriting label:  A006_AXIAL_T2_SEG.nii.gz\n",
      "Rewriting label:  A008_AXIAL_T2_SEG.nii.gz\n",
      "Rewriting label:  A012_AXIAL_T2_SEG.nii.gz\n",
      "Rewriting label:  A015_AXIAL_T2_SEG.nii.gz\n"
     ]
    }
   ],
   "source": [
    "covert_to_binary_labels(axial_t2_annotated_unique_values, labels_annotations_dir / \"axial\", coronal_binary_labels_dir.parent / \"axial\" / \"t2\")"
   ]
  },
  {
   "cell_type": "code",
   "execution_count": 38,
   "metadata": {},
   "outputs": [
    {
     "name": "stdout",
     "output_type": "stream",
     "text": [
      "Inspecting label:  A003_CORONAL_T2_SEG.nii.gz\n",
      "Shape:  (34, 480, 480)\n",
      "Unique values:  [0 1 2]\n",
      "Inspecting label:  A010_CORONAL_T2_SEG.nii.gz\n",
      "Shape:  (38, 512, 512)\n",
      "Unique values:  [0 1 2]\n",
      "Inspecting label:  A013_CORONAL_T2_SEG.nii.gz\n",
      "Shape:  (40, 512, 512)\n",
      "Unique values:  [0 1 2]\n",
      "Inspecting label:  A016_CORONAL_T2_SEG.nii.gz\n",
      "Shape:  (45, 512, 512)\n",
      "Unique values:  [0 1 2]\n",
      "Inspecting label:  A018_CORONAL_T2_SEG.nii.gz\n",
      "Shape:  (40, 512, 512)\n",
      "Unique values:  [0 1 2]\n",
      "Inspecting label:  I001_CORONAL_T2_SEG.nii.gz\n",
      "Shape:  (34, 512, 512)\n",
      "Unique values:  [0 2]\n",
      "Inspecting label:  I002_CORONAL_T2_SEG.nii.gz\n",
      "Shape:  (34, 480, 480)\n",
      "Unique values:  [0 2]\n",
      "Inspecting label:  I003_CORONAL_T2_SEG.nii.gz\n",
      "Shape:  (34, 480, 480)\n",
      "Unique values:  [0 2]\n",
      "Inspecting label:  I005_CORONAL_T2_SEG.nii.gz\n",
      "Shape:  (36, 720, 720)\n",
      "Unique values:  [0 2]\n",
      "Inspecting label:  I006_CORONAL_T2_SEG.nii.gz\n",
      "Shape:  (38, 720, 720)\n",
      "Unique values:  [0 2]\n",
      "Inspecting label:  I009_CORONAL_T2_SEG.nii.gz\n",
      "Shape:  (34, 480, 480)\n",
      "Unique values:  [0 2]\n",
      "Inspecting label:  I011_CORONAL_T2_SEG.nii.gz\n",
      "Shape:  (45, 512, 512)\n",
      "Unique values:  [0 2]\n",
      "Inspecting label:  I013_CORONAL_T2_SEG.nii.gz\n",
      "Shape:  (38, 528, 528)\n",
      "Unique values:  [0 2]\n",
      "Inspecting label:  I014_CORONAL_T2_SEG.nii.gz\n",
      "Shape:  (34, 480, 480)\n",
      "Unique values:  [0 2]\n",
      "Inspecting label:  I016_CORONAL_T2_SEG.nii.gz\n",
      "Shape:  (34, 512, 512)\n",
      "Unique values:  [0 2]\n"
     ]
    }
   ],
   "source": [
    "coronal_t2_annotated_unique_values = inspect_labels(labels_annotations_dir / \"coronal\")"
   ]
  },
  {
   "cell_type": "code",
   "execution_count": 52,
   "metadata": {},
   "outputs": [
    {
     "name": "stdout",
     "output_type": "stream",
     "text": [
      "Rewriting label:  A003_CORONAL_T2_SEG.nii.gz\n",
      "Rewriting label:  A010_CORONAL_T2_SEG.nii.gz\n",
      "Rewriting label:  A013_CORONAL_T2_SEG.nii.gz\n",
      "Rewriting label:  A016_CORONAL_T2_SEG.nii.gz\n",
      "Rewriting label:  A018_CORONAL_T2_SEG.nii.gz\n",
      "Rewriting label:  I001_CORONAL_T2_SEG.nii.gz\n",
      "Rewriting label:  I002_CORONAL_T2_SEG.nii.gz\n",
      "Rewriting label:  I003_CORONAL_T2_SEG.nii.gz\n",
      "Rewriting label:  I005_CORONAL_T2_SEG.nii.gz\n",
      "Rewriting label:  I006_CORONAL_T2_SEG.nii.gz\n",
      "Rewriting label:  I009_CORONAL_T2_SEG.nii.gz\n",
      "Rewriting label:  I011_CORONAL_T2_SEG.nii.gz\n",
      "Rewriting label:  I013_CORONAL_T2_SEG.nii.gz\n",
      "Rewriting label:  I014_CORONAL_T2_SEG.nii.gz\n",
      "Rewriting label:  I016_CORONAL_T2_SEG.nii.gz\n"
     ]
    }
   ],
   "source": [
    "covert_to_binary_labels(coronal_t2_annotated_unique_values, labels_annotations_dir / \"coronal\", coronal_binary_labels_dir.parent / \"coronal\")"
   ]
  },
  {
   "attachments": {},
   "cell_type": "markdown",
   "metadata": {},
   "source": [
    "### Orientation"
   ]
  },
  {
   "cell_type": "code",
   "execution_count": 40,
   "metadata": {},
   "outputs": [],
   "source": [
    "# inspect the direction of the images from path\n",
    "def compare_direction(img_path, label_path):\n",
    "    img = sitk.ReadImage(str(img_path))\n",
    "    label = sitk.ReadImage(str(label_path))\n",
    "    img_direction = img.GetDirection()\n",
    "    label_direction = label.GetDirection()\n",
    "    print(\"Image direction: \", img_direction)\n",
    "    print(\"Label direction: \", label_direction)\n",
    "    if img_direction == label_direction:\n",
    "        print(\"Directions match\")\n",
    "    else:\n",
    "        print(\"Directions do not match\")"
   ]
  },
  {
   "cell_type": "code",
   "execution_count": 55,
   "metadata": {},
   "outputs": [],
   "source": [
    "def compare_geometry(img_path, label_path):\n",
    "    img = sitk.ReadImage(str(img_path))\n",
    "    label = sitk.ReadImage(str(label_path))\n",
    "\n",
    "    img_origin = img.GetOrigin()\n",
    "    label_origin = label.GetOrigin()\n",
    "\n",
    "    img_spacing = img.GetSpacing()\n",
    "    label_spacing = label.GetSpacing()\n",
    "\n",
    "    img_direction = img.GetDirection()\n",
    "    label_direction = label.GetDirection()\n",
    "\n",
    "    img_size = img.GetSize()\n",
    "    label_size = label.GetSize()\n",
    "\n",
    "    match = True\n",
    "\n",
    "    if not np.allclose(img_origin, label_origin):\n",
    "        print(\"Origins do not match\")\n",
    "        print(\"Image origin: \", img_origin)\n",
    "        print(\"Label origin: \", label_origin)\n",
    "        match = False\n",
    "\n",
    "    if not np.allclose(img_spacing, label_spacing):\n",
    "        print(\"Spacings do not match\")\n",
    "        print(\"Image spacing: \", img_spacing)\n",
    "        print(\"Label spacing: \", label_spacing)\n",
    "        match = False\n",
    "\n",
    "    if not np.allclose(img_direction, label_direction):\n",
    "        print(\"Directions do not match\")\n",
    "        print(\"Image direction: \", img_direction)\n",
    "        print(\"Label direction: \", label_direction)\n",
    "        match = False\n",
    "\n",
    "    if not np.allclose(img_size, label_size):\n",
    "        print(\"Sizes do not match\")\n",
    "        print(\"Image size: \", img_size)\n",
    "        print(\"Label size: \", label_size)\n",
    "        match = False\n",
    "\n",
    "    if not match:\n",
    "        print(\"Image: \", img_path.name)\n",
    "\n",
    "    return match"
   ]
  },
  {
   "cell_type": "code",
   "execution_count": 42,
   "metadata": {},
   "outputs": [],
   "source": [
    "def inspect_geometry(img_dir, label_dir):\n",
    "    for img_path in sorted(img_dir.iterdir()):\n",
    "        # the label name is image name + \"_SEG.nii.gz\"\n",
    "        label_path = label_dir / (img_path.name[:-7] + \"_SEG.nii.gz\")\n",
    "        if label_path.exists():\n",
    "            compare_geometry(img_path, label_path)"
   ]
  },
  {
   "cell_type": "code",
   "execution_count": 43,
   "metadata": {},
   "outputs": [
    {
     "name": "stdout",
     "output_type": "stream",
     "text": [
      "Image:  A005_AXIAL_T2.nii.gz\n",
      "Geometry matches\n",
      "Image:  A006_AXIAL_T2.nii.gz\n",
      "Geometry matches\n",
      "Image:  A008_AXIAL_T2.nii.gz\n",
      "Geometry matches\n",
      "Image:  A012_AXIAL_T2.nii.gz\n",
      "Geometry matches\n",
      "Image:  A015_AXIAL_T2.nii.gz\n",
      "Geometry matches\n",
      "Image:  A101_AXIAL_T2.nii.gz\n",
      "Geometry matches\n",
      "Image:  A102_AXIAL_T2.nii.gz\n",
      "Geometry matches\n",
      "Image:  A103_AXIAL_T2.nii.gz\n",
      "Geometry matches\n",
      "Image:  A104_AXIAL_T2.nii.gz\n",
      "Geometry matches\n",
      "Image:  A105_AXIAL_T2.nii.gz\n",
      "Geometry matches\n",
      "Image:  A106_AXIAL_T2.nii.gz\n",
      "Geometry matches\n",
      "Image:  A107_AXIAL_T2.nii.gz\n",
      "Geometry matches\n",
      "Image:  A108_AXIAL_T2.nii.gz\n",
      "Geometry matches\n",
      "Image:  A109_AXIAL_T2.nii.gz\n",
      "Geometry matches\n",
      "Image:  A110_AXIAL_T2.nii.gz\n",
      "Geometry matches\n",
      "Image:  A111_AXIAL_T2.nii.gz\n",
      "Geometry matches\n",
      "Image:  A112_AXIAL_T2.nii.gz\n",
      "Geometry matches\n",
      "Image:  A113_AXIAL_T2.nii.gz\n",
      "Geometry matches\n",
      "Image:  I101_AXIAL_T2.nii.gz\n",
      "Geometry matches\n",
      "Image:  I102_AXIAL_T2.nii.gz\n",
      "Geometry matches\n",
      "Image:  I103_AXIAL_T2.nii.gz\n",
      "Geometry matches\n",
      "Image:  I104_AXIAL_T2.nii.gz\n",
      "Geometry matches\n",
      "Image:  I105_AXIAL_T2.nii.gz\n",
      "Geometry matches\n",
      "Image:  I106_AXIAL_T2.nii.gz\n",
      "Geometry matches\n",
      "Image:  I107_AXIAL_T2.nii.gz\n",
      "Geometry matches\n",
      "Image:  I108_AXIAL_T2.nii.gz\n",
      "Geometry matches\n",
      "Image:  I109_AXIAL_T2.nii.gz\n",
      "Geometry matches\n",
      "Image:  I110_AXIAL_T2.nii.gz\n",
      "Geometry matches\n",
      "Image:  I111_AXIAL_T2.nii.gz\n",
      "Geometry matches\n",
      "Image:  I112_AXIAL_T2.nii.gz\n",
      "Geometry matches\n",
      "Image:  I113_AXIAL_T2.nii.gz\n",
      "Geometry matches\n",
      "Image:  I114_AXIAL_T2.nii.gz\n",
      "Geometry matches\n",
      "Image:  I115_AXIAL_T2.nii.gz\n",
      "Geometry matches\n",
      "Image:  I116_AXIAL_T2.nii.gz\n",
      "Geometry matches\n",
      "Image:  I117_AXIAL_T2.nii.gz\n",
      "Geometry matches\n",
      "Image:  I118_AXIAL_T2.nii.gz\n",
      "Geometry matches\n",
      "Image:  I119_AXIAL_T2.nii.gz\n",
      "Geometry matches\n",
      "Image:  I120_AXIAL_T2.nii.gz\n",
      "Geometry matches\n"
     ]
    }
   ],
   "source": [
    "inspect_geometry(coronal_labels_dir.parent.parent / \"images\" / \"axial\" / \"t2\", coronal_binary_labels_dir.parent / \"axial\" / \"t2\")"
   ]
  },
  {
   "cell_type": "code",
   "execution_count": 59,
   "metadata": {},
   "outputs": [],
   "source": [
    "def correct_direction(img_path, label_path):\n",
    "    img = sitk.ReadImage(str(img_path))\n",
    "    label = sitk.ReadImage(str(label_path))\n",
    "\n",
    "    img_direction = img.GetDirection()\n",
    "    label_direction = label.GetDirection()\n",
    "\n",
    "    if not np.allclose(img_direction, label_direction):\n",
    "        # correct the label direction using resample\n",
    "        print(\"Correcting label direction for: \", label_path.name)\n",
    "        new_label = sitk.GetImageFromArray(sitk.GetArrayFromImage(label))\n",
    "\n",
    "        new_label.SetOrigin(label.GetOrigin())\n",
    "        new_label.SetSpacing(label.GetSpacing())\n",
    "\n",
    "        new_label.SetDirection(img_direction)\n",
    "        # write the label\n",
    "        sitk.WriteImage(new_label, str(label_path))"
   ]
  },
  {
   "cell_type": "code",
   "execution_count": 17,
   "metadata": {},
   "outputs": [],
   "source": [
    "correct_direction(\n",
    "    coronal_labels_dir.parent.parent / \"images\" / \"axial\" / \"t2\" / \"A006_AXIAL_T2.nii.gz\",\n",
    "    coronal_binary_labels_dir.parent / \"axial\" / \"t2\" / \"A006_AXIAL_T2_SEG.nii.gz\"\n",
    ")"
   ]
  },
  {
   "cell_type": "code",
   "execution_count": 18,
   "metadata": {},
   "outputs": [
    {
     "name": "stdout",
     "output_type": "stream",
     "text": [
      "Geometry matches\n"
     ]
    }
   ],
   "source": [
    "compare_geometry(\n",
    "    coronal_labels_dir.parent.parent / \"images\" / \"axial\" / \"t2\" / \"A006_AXIAL_T2.nii.gz\",\n",
    "    coronal_binary_labels_dir.parent / \"axial\" / \"t2\" / \"A006_AXIAL_T2_SEG.nii.gz\"\n",
    ")"
   ]
  },
  {
   "cell_type": "code",
   "execution_count": 45,
   "metadata": {},
   "outputs": [],
   "source": [
    "def correct_directions(img_dir, label_dir):\n",
    "    for img_path in sorted(img_dir.iterdir()):\n",
    "        # the label name is image name + \"_SEG.nii.gz\"\n",
    "        label_path = label_dir / (img_path.name[:-7] + \"_SEG.nii.gz\")\n",
    "        if label_path.exists():\n",
    "            correct_direction(img_path, label_path)"
   ]
  },
  {
   "cell_type": "code",
   "execution_count": 20,
   "metadata": {},
   "outputs": [],
   "source": [
    "correct_directions(\n",
    "    coronal_labels_dir.parent.parent / \"images\" / \"axial\" / \"t2\",\n",
    "    coronal_binary_labels_dir.parent / \"axial\" / \"t2\"\n",
    ")"
   ]
  },
  {
   "cell_type": "code",
   "execution_count": 23,
   "metadata": {},
   "outputs": [
    {
     "name": "stdout",
     "output_type": "stream",
     "text": [
      "Image:  A101_AXIAL_POSTCON.nii.gz\n",
      "Geometry matches\n",
      "Image:  A102_AXIAL_POSTCON.nii.gz\n",
      "Geometry matches\n",
      "Image:  A103_AXIAL_POSTCON.nii.gz\n",
      "Geometry matches\n",
      "Image:  A104_AXIAL_POSTCON.nii.gz\n",
      "Directions do not match\n",
      "Image direction:  (0.9993970418422747, -0.029874416345212405, 0.017693840170523327, 0.03094774630880544, 0.9974786579128233, -0.06386364258781184, -0.015741339057285142, 0.06437271360184901, 0.9978017654701942)\n",
      "Label direction:  (0.9993970136002068, -0.029875344772192152, 0.01769386749196504, 0.030948674825143737, 0.9974786287933941, -0.06386363266336084, -0.01574130660254881, 0.06437273394219646, 0.9978017656209154)\n",
      "Image:  A105_AXIAL_POSTCON.nii.gz\n",
      "Geometry matches\n",
      "Image:  A106_AXIAL_POSTCON.nii.gz\n",
      "Directions do not match\n",
      "Image direction:  (0.9996856046203976, -0.025073729076871838, -1.7532028985955296e-12, 0.024971848022669295, 0.9956236027116495, -0.09005581185734039, 0.0022580347832900916, 0.0900274948760382, 0.9959367202542113)\n",
      "Label direction:  (0.999685527247723, -0.02507681410508486, 1.391592956814507e-07, 0.024974932638485436, 0.9956235250998694, -0.09005581185733953, 0.00225817429469318, 0.09002749392296125, 0.9959367202542018)\n",
      "Image:  A107_AXIAL_POSTCON.nii.gz\n",
      "Directions do not match\n",
      "Image direction:  (0.9986055737137232, -6.924385581694056e-11, 0.05279117114395897, 0.005084360523549456, 0.9953513097707443, -0.09617650585901098, -0.05254576506201344, 0.09631079969382456, 0.9939633655069994)\n",
      "Label direction:  (0.9986056284166602, 2.151978542395292e-05, 0.05279013304730149, 0.005062840249310299, 0.9953513648146117, -0.0961770721364399, -0.05254680335831282, 0.09631022842143272, 0.9939633658481133)\n",
      "Image:  A108_AXIAL_POSTCON.nii.gz\n",
      "Geometry matches\n",
      "Image:  A109_AXIAL_POSTCON.nii.gz\n",
      "Geometry matches\n",
      "Image:  A110_AXIAL_POSTCON.nii.gz\n",
      "Geometry matches\n",
      "Image:  A111_AXIAL_POSTCON.nii.gz\n",
      "Geometry matches\n",
      "Image:  A112_AXIAL_POSTCON.nii.gz\n",
      "Directions do not match\n",
      "Image direction:  (0.9999457039602568, -0.010414322840903075, -0.0003619239706429593, 0.010351507287146714, 0.9967085461786934, -0.08040472365431896, 0.0011980936150346054, 0.08039661593699611, 0.9967622331454538)\n",
      "Label direction:  (0.9999457805880206, -0.010406951700801607, -0.00036222079140122565, 0.010344136845692825, 0.996708622867921, -0.08040472364567781, 0.0011977967822411754, 0.08039661968658746, 0.9967622330383312)\n",
      "Image:  A113_AXIAL_POSTCON.nii.gz\n",
      "Directions do not match\n",
      "Image direction:  (0.9999094917675044, -0.013453931516508, 0.0, 0.013453931516508, 0.9999094917675044, 0.0, 0.0, 0.0, 1.0)\n",
      "Label direction:  (0.9999094019853094, -0.013460602563808363, 0.0, 0.013460602563808363, 0.9999094019853094, 0.0, 0.0, 0.0, 1.0)\n",
      "Image:  I101_AXIAL_POSTCON.nii.gz\n",
      "Geometry matches\n",
      "Image:  I102_AXIAL_POSTCON.nii.gz\n",
      "Geometry matches\n",
      "Image:  I103_AXIAL_POSTCON.nii.gz\n",
      "Geometry matches\n",
      "Image:  I104_AXIAL_POSTCON.nii.gz\n",
      "Geometry matches\n",
      "Image:  I105_AXIAL_POSTCON.nii.gz\n",
      "Geometry matches\n",
      "Image:  I106_AXIAL_POSTCON.nii.gz\n",
      "Geometry matches\n",
      "Image:  I107_AXIAL_POSTCON.nii.gz\n",
      "Geometry matches\n",
      "Image:  I108_AXIAL_POSTCON.nii.gz\n",
      "Directions do not match\n",
      "Image direction:  (0.9989713187440232, 0.04534649997137054, -3.070250764459132e-11, -0.04534257090753921, 0.9988849401202607, -0.013150165469276382, -0.0005963139458348712, 0.013136641172297897, 0.9999135328357802)\n",
      "Label direction:  (0.9989712562506321, 0.04534786585607521, -9.052229182035046e-09, -0.045343947598277846, 0.9988848781228152, -0.013150166710825079, -0.0005963230991332294, 0.013136640356950542, 0.9999135328194522)\n",
      "Image:  I109_AXIAL_POSTCON.nii.gz\n",
      "Geometry matches\n",
      "Image:  I110_AXIAL_POSTCON.nii.gz\n",
      "Geometry matches\n",
      "Image:  I111_AXIAL_POSTCON.nii.gz\n",
      "Directions do not match\n",
      "Image direction:  (0.9985332092564575, -0.0026448447849795674, 0.054078045002625925, -7.985303447776223e-05, 0.9987331219381398, 0.05032042708425588, -0.05414262309394302, -0.05025092974025657, 0.9972679778608917)\n",
      "Label direction:  (0.9985332813106036, -0.0025873295274694125, 0.05407949538369991, -0.00013736854063339817, 0.9987331939923054, 0.05031886743294305, -0.054141178828717045, -0.050252491916761864, 0.9972679779072975)\n",
      "Image:  I112_AXIAL_POSTCON.nii.gz\n",
      "Geometry matches\n",
      "Image:  I113_AXIAL_POSTCON.nii.gz\n",
      "Directions do not match\n",
      "Image direction:  (0.9993274973141693, -0.03666814842854594, -1.1672039920319769e-13, 0.03666814844639213, 0.9993274968278021, 3.12412206008687e-05, -1.1455576923953888e-06, -3.122020749242463e-05, 0.999999999511993)\n",
      "Label direction:  (0.9993274782090991, -0.03666866910076608, -8.298845981360636e-12, 0.03666866911861252, 0.9993274777227318, 3.12412206008687e-05, -1.1455657011316214e-06, -3.122020910251797e-05, 0.999999999511993)\n",
      "Image:  I114_AXIAL_POSTCON.nii.gz\n",
      "Geometry matches\n",
      "Image:  I115_AXIAL_POSTCON.nii.gz\n",
      "Geometry matches\n",
      "Image:  I116_AXIAL_POSTCON.nii.gz\n",
      "Directions do not match\n",
      "Image direction:  (0.9992981600661957, -0.03745914234547027, 1.5991877149963142e-12, 0.03745823147933078, 0.9992738811170558, 0.006970749944002168, -0.00026111828158575256, -0.0069658575924181065, 0.9999757040274619)\n",
      "Label direction:  (0.9992981304109573, -0.037459933449897564, -2.783761198678672e-09, 0.0374590225839021, 0.9992738514554806, 0.006970750564854469, -0.00026112109133457923, -0.006965858400746522, 0.999975704023134)\n",
      "Image:  I117_AXIAL_POSTCON.nii.gz\n",
      "Geometry matches\n",
      "Image:  I118_AXIAL_POSTCON.nii.gz\n",
      "Directions do not match\n",
      "Image direction:  (0.9999134172472287, 0.00692542102375095, -0.011189126425745037, -0.007759717325927434, 0.9970526132342417, -0.07632740545972172, 0.010627548917369016, 0.0764076238762437, 0.9970200251878675)\n",
      "Label direction:  (0.9999133937052141, 0.006928619273260436, -0.011189250590835559, -0.007762916140618127, 0.997052588836328, -0.07632740041555153, 0.010627427812748415, 0.07640765229832898, 0.9970200241805676)\n",
      "Image:  I119_AXIAL_POSTCON.nii.gz\n",
      "Geometry matches\n",
      "Image:  I120_AXIAL_POSTCON.nii.gz\n",
      "Geometry matches\n"
     ]
    }
   ],
   "source": [
    "inspect_geometry(\n",
    "    coronal_labels_dir.parent.parent / \"images\" / \"axial\" / \"postcon\",\n",
    "    coronal_binary_labels_dir.parent / \"axial\" / \"postcon\"\n",
    ")"
   ]
  },
  {
   "cell_type": "code",
   "execution_count": 24,
   "metadata": {},
   "outputs": [
    {
     "name": "stdout",
     "output_type": "stream",
     "text": [
      "Correcting label direction for:  A104_AXIAL_POSTCON_SEG.nii.gz\n",
      "Correcting label direction for:  A106_AXIAL_POSTCON_SEG.nii.gz\n",
      "Correcting label direction for:  A107_AXIAL_POSTCON_SEG.nii.gz\n",
      "Correcting label direction for:  A112_AXIAL_POSTCON_SEG.nii.gz\n",
      "Correcting label direction for:  A113_AXIAL_POSTCON_SEG.nii.gz\n",
      "Correcting label direction for:  I108_AXIAL_POSTCON_SEG.nii.gz\n",
      "Correcting label direction for:  I111_AXIAL_POSTCON_SEG.nii.gz\n",
      "Correcting label direction for:  I113_AXIAL_POSTCON_SEG.nii.gz\n",
      "Correcting label direction for:  I116_AXIAL_POSTCON_SEG.nii.gz\n",
      "Correcting label direction for:  I118_AXIAL_POSTCON_SEG.nii.gz\n"
     ]
    }
   ],
   "source": [
    "correct_directions(\n",
    "    coronal_labels_dir.parent.parent / \"images\" / \"axial\" / \"postcon\",\n",
    "    coronal_binary_labels_dir.parent / \"axial\" / \"postcon\"\n",
    ")"
   ]
  },
  {
   "cell_type": "code",
   "execution_count": 25,
   "metadata": {},
   "outputs": [
    {
     "name": "stdout",
     "output_type": "stream",
     "text": [
      "Image:  A101_AXIAL_POSTCON.nii.gz\n",
      "Geometry matches\n",
      "Image:  A102_AXIAL_POSTCON.nii.gz\n",
      "Geometry matches\n",
      "Image:  A103_AXIAL_POSTCON.nii.gz\n",
      "Geometry matches\n",
      "Image:  A104_AXIAL_POSTCON.nii.gz\n",
      "Geometry matches\n",
      "Image:  A105_AXIAL_POSTCON.nii.gz\n",
      "Geometry matches\n",
      "Image:  A106_AXIAL_POSTCON.nii.gz\n",
      "Geometry matches\n",
      "Image:  A107_AXIAL_POSTCON.nii.gz\n",
      "Geometry matches\n",
      "Image:  A108_AXIAL_POSTCON.nii.gz\n",
      "Geometry matches\n",
      "Image:  A109_AXIAL_POSTCON.nii.gz\n",
      "Geometry matches\n",
      "Image:  A110_AXIAL_POSTCON.nii.gz\n",
      "Geometry matches\n",
      "Image:  A111_AXIAL_POSTCON.nii.gz\n",
      "Geometry matches\n",
      "Image:  A112_AXIAL_POSTCON.nii.gz\n",
      "Geometry matches\n",
      "Image:  A113_AXIAL_POSTCON.nii.gz\n",
      "Geometry matches\n",
      "Image:  I101_AXIAL_POSTCON.nii.gz\n",
      "Geometry matches\n",
      "Image:  I102_AXIAL_POSTCON.nii.gz\n",
      "Geometry matches\n",
      "Image:  I103_AXIAL_POSTCON.nii.gz\n",
      "Geometry matches\n",
      "Image:  I104_AXIAL_POSTCON.nii.gz\n",
      "Geometry matches\n",
      "Image:  I105_AXIAL_POSTCON.nii.gz\n",
      "Geometry matches\n",
      "Image:  I106_AXIAL_POSTCON.nii.gz\n",
      "Geometry matches\n",
      "Image:  I107_AXIAL_POSTCON.nii.gz\n",
      "Geometry matches\n",
      "Image:  I108_AXIAL_POSTCON.nii.gz\n",
      "Geometry matches\n",
      "Image:  I109_AXIAL_POSTCON.nii.gz\n",
      "Geometry matches\n",
      "Image:  I110_AXIAL_POSTCON.nii.gz\n",
      "Geometry matches\n",
      "Image:  I111_AXIAL_POSTCON.nii.gz\n",
      "Geometry matches\n",
      "Image:  I112_AXIAL_POSTCON.nii.gz\n",
      "Geometry matches\n",
      "Image:  I113_AXIAL_POSTCON.nii.gz\n",
      "Geometry matches\n",
      "Image:  I114_AXIAL_POSTCON.nii.gz\n",
      "Geometry matches\n",
      "Image:  I115_AXIAL_POSTCON.nii.gz\n",
      "Geometry matches\n",
      "Image:  I116_AXIAL_POSTCON.nii.gz\n",
      "Geometry matches\n",
      "Image:  I117_AXIAL_POSTCON.nii.gz\n",
      "Geometry matches\n",
      "Image:  I118_AXIAL_POSTCON.nii.gz\n",
      "Geometry matches\n",
      "Image:  I119_AXIAL_POSTCON.nii.gz\n",
      "Geometry matches\n",
      "Image:  I120_AXIAL_POSTCON.nii.gz\n",
      "Geometry matches\n"
     ]
    }
   ],
   "source": [
    "inspect_geometry(\n",
    "    coronal_labels_dir.parent.parent / \"images\" / \"axial\" / \"postcon\",\n",
    "    coronal_binary_labels_dir.parent / \"axial\" / \"postcon\"\n",
    ")"
   ]
  },
  {
   "cell_type": "code",
   "execution_count": 60,
   "metadata": {},
   "outputs": [
    {
     "name": "stdout",
     "output_type": "stream",
     "text": [
      "Origins do not match\n",
      "Image origin:  (0.0, 0.0, 0.0)\n",
      "Label origin:  (-178.53228759765625, -70.2840576171875, 199.4116668701172)\n",
      "Spacings do not match\n",
      "Image spacing:  (1.0, 1.0, 1.0)\n",
      "Label spacing:  (0.84375, 0.84375, 4.399999618530273)\n",
      "Directions do not match\n",
      "Image direction:  (0.9996398176781983, 0.0, -0.026837192705244498, 0.026837192705244498, 0.0, 0.9996398176781983, 0.0, -1.0, 0.0)\n",
      "Label direction:  (0.9996398450857488, 1.0198211923658856e-06, -0.02683617145480946, 0.026836171781759434, 1.3686513124472409e-08, 0.9996398450950463, 1.0198211727427216e-06, -0.9999999999994799, -1.3686512033174391e-08)\n",
      "Image:  A003_CORONAL_T2.nii.gz\n",
      "Directions do not match\n",
      "Image direction:  (1.0, 0.0, 0.0, 0.0, -0.0, 1.0, 0.0, -1.0, 0.0)\n",
      "Label direction:  (-1.0, 0.0, 0.0, 0.0, -1.0, 0.0, 0.0, 0.0, 1.0)\n",
      "Image:  A101_CORONAL_T2.nii.gz\n",
      "Directions do not match\n",
      "Image direction:  (1.0, 0.0, 0.0, 0.0, -0.0, 1.0, 0.0, -1.0, 0.0)\n",
      "Label direction:  (-1.0, 0.0, 0.0, 0.0, -1.0, 0.0, 0.0, 0.0, 1.0)\n",
      "Image:  A102_CORONAL_T2.nii.gz\n",
      "Directions do not match\n",
      "Image direction:  (1.0, 0.0, 0.0, 0.0, 0.019348307719440714, 0.9998128039730207, 0.0, -0.9998128039730207, 0.019348307719440714)\n",
      "Label direction:  (-1.0, 0.0, 0.0, 0.0, -1.0, 0.0, 0.0, 0.0, 1.0)\n",
      "Image:  A103_CORONAL_T2.nii.gz\n",
      "Directions do not match\n",
      "Image direction:  (0.9995517296701435, -0.0019123088370096748, -0.029877797662591455, 0.029938933070908627, 0.06384500794945329, 0.9975106392576879, -1.2643410768918426e-10, -0.997957994123423, 0.06387363912093752)\n",
      "Label direction:  (-1.0, 0.0, 0.0, 0.0, -1.0, 0.0, 0.0, 0.0, 1.0)\n",
      "Image:  A104_CORONAL_T2.nii.gz\n",
      "Directions do not match\n",
      "Image direction:  (1.0, 0.0, 0.0, 0.0, -0.0, 1.0, 0.0, -1.0, 0.0)\n",
      "Label direction:  (-1.0, 0.0, 0.0, 0.0, -1.0, 0.0, 0.0, 0.0, 1.0)\n",
      "Image:  A105_CORONAL_T2.nii.gz\n",
      "Directions do not match\n",
      "Image direction:  (0.9996856046129243, 4.756777212419435e-11, -0.02507373116613146, 0.02503684806744219, 0.05421904415991128, 0.9982151328615078, 0.0013594736260142415, -0.9985290658014846, 0.05420199748801659)\n",
      "Label direction:  (-1.0, 0.0, 0.0, 0.0, -1.0, 0.0, 0.0, 0.0, 1.0)\n",
      "Image:  A106_CORONAL_T2.nii.gz\n",
      "Directions do not match\n",
      "Image direction:  (0.9986055741526738, -0.05279117245637483, -6.294381751616473e-11, 0.002800399805653214, 0.05297278036420591, 0.9985920300404926, -0.05271683822211994, -0.9971995671134074, 0.05304674862428563)\n",
      "Label direction:  (-1.0, 0.0, 0.0, 0.0, -1.0, 0.0, 0.0, 0.0, 1.0)\n",
      "Image:  A107_CORONAL_T2.nii.gz\n",
      "Directions do not match\n",
      "Image direction:  (1.0, 0.0, 0.0, 0.0, -0.0, 1.0, 0.0, -1.0, 0.0)\n",
      "Label direction:  (-1.0, 0.0, 0.0, 0.0, -1.0, 0.0, 0.0, 0.0, 1.0)\n",
      "Image:  A108_CORONAL_T2.nii.gz\n",
      "Directions do not match\n",
      "Image direction:  (0.9988044196783847, -0.012579329456387631, -0.04723867013873102, 0.04692522293760332, -0.02414461998072115, 0.9986065594268975, -0.013702360496700965, -0.9996293302001569, -0.0235254652047245)\n",
      "Label direction:  (-1.0, 0.0, 0.0, 0.0, -1.0, 0.0, 0.0, 0.0, 1.0)\n",
      "Image:  A109_CORONAL_T2.nii.gz\n",
      "Directions do not match\n",
      "Image direction:  (1.0, 0.0, 0.0, 0.0, -0.0, 1.0, 0.0, -1.0, 0.0)\n",
      "Label direction:  (-1.0, 0.0, 0.0, 0.0, -1.0, 0.0, 0.0, 0.0, 1.0)\n",
      "Image:  A110_CORONAL_T2.nii.gz\n",
      "Directions do not match\n",
      "Image direction:  (1.0, 0.0, 0.0, 0.0, -0.0, 1.0, 0.0, -1.0, 0.0)\n",
      "Label direction:  (-1.0, 0.0, 0.0, 0.0, -1.0, 0.0, 0.0, 0.0, 1.0)\n",
      "Image:  A111_CORONAL_T2.nii.gz\n",
      "Directions do not match\n",
      "Image direction:  (0.9996675963268677, 6.853774479401122e-11, -0.025781713107468296, 0.025732562240156288, 0.06172031525003266, 0.9977617140477232, 0.0015912556737075554, -0.9980934839409766, 0.06169979943074129)\n",
      "Label direction:  (-1.0, 0.0, 0.0, 0.0, -1.0, 0.0, 0.0, 0.0, 1.0)\n",
      "Image:  A112_CORONAL_T2.nii.gz\n",
      "Directions do not match\n",
      "Image direction:  (0.9967934063727707, 5.436380560041498e-13, -0.08001814502459606, 0.08001373845129667, -0.010505581366646184, 0.9967383989400433, -0.0008406371487690817, -0.9999448148573744, -0.01047189310781728)\n",
      "Label direction:  (-1.0, 0.0, 0.0, 0.0, -1.0, 0.0, 0.0, 0.0, 1.0)\n",
      "Image:  A113_CORONAL_T2.nii.gz\n",
      "Origins do not match\n",
      "Image origin:  (0.0, 0.0, 0.0)\n",
      "Label origin:  (-187.13754272460938, -58.9073371887207, 208.877685546875)\n",
      "Spacings do not match\n",
      "Image spacing:  (1.0, 1.0, 1.0)\n",
      "Label spacing:  (0.84375, 0.84375, 4.399999141693115)\n",
      "Directions do not match\n",
      "Image direction:  (0.9999951344780518, 0.0015841123047330386, 0.0026873051843830068, -0.0026133321802118904, -0.04498184872632198, 0.9989843861835142, 0.0017033834386112501, -0.9989865483946059, -0.04497748939629011)\n",
      "Label direction:  (0.9999952405944005, 0.001559827685639769, 0.0026619027005519726, -0.002589047897613297, -0.04498177794208454, 0.9989844525889175, 0.0016779807897914223, -0.9989865897952587, -0.044977525050114056)\n",
      "Image:  I003_CORONAL_T2.nii.gz\n",
      "Origins do not match\n",
      "Image origin:  (0.0, 0.0, 0.0)\n",
      "Label origin:  (-175.69540405273438, -79.44647216796875, 194.7180633544922)\n",
      "Spacings do not match\n",
      "Image spacing:  (1.0, 1.0, 1.0)\n",
      "Label spacing:  (0.5208333134651184, 0.5208333134651184, 3.3000049591064453)\n",
      "Directions do not match\n",
      "Image direction:  (0.9995928159225587, -0.01802627710461988, -0.022119123542895643, 0.022089622367872774, -0.0018341410581273442, 0.999754312105404, -0.01806241787952697, -0.9998358311544583, -0.0014352004544607026)\n",
      "Label direction:  (0.9995928015619955, -0.018026634528820036, -0.022119483412682852, 0.02208997831337151, -0.001834186560451626, 0.9997543040982988, -0.018062777293528877, -0.9998358246268363, -0.0014352318565970324)\n",
      "Image:  I005_CORONAL_T2.nii.gz\n",
      "Origins do not match\n",
      "Image origin:  (0.0, 0.0, 0.0)\n",
      "Label origin:  (-174.56900024414062, -104.18670654296875, 188.55226135253906)\n",
      "Spacings do not match\n",
      "Image spacing:  (1.0, 1.0, 1.0)\n",
      "Label spacing:  (0.5208333134651184, 0.5208333134651184, 3.299994945526123)\n",
      "Directions do not match\n",
      "Image direction:  (0.9991802180945547, -0.029769766410396314, -0.027434517336350984, 0.027057190046216748, -0.013004595005493268, 0.9995492929294444, -0.03011312397146867, -0.9994721814621023, -0.012188447922894776)\n",
      "Label direction:  (0.9991801595039583, -0.029770783487820134, -0.027435545822355932, 0.02705820463903569, -0.013004649152994067, 0.9995492647474803, -0.030114156394566383, -0.9994721504628975, -0.012188444043473636)\n",
      "Image:  I006_CORONAL_T2.nii.gz\n",
      "Origins do not match\n",
      "Image origin:  (0.0, 0.0, 0.0)\n",
      "Label origin:  (-190.87998962402344, -83.41834259033203, 255.0560302734375)\n",
      "Spacings do not match\n",
      "Image spacing:  (1.0, 1.0, 1.0)\n",
      "Label spacing:  (0.84375, 0.84375, 4.399993896484375)\n",
      "Directions do not match\n",
      "Image direction:  (0.9991386645130091, -0.04007539797912862, -0.0107652955746246, 0.010032881164115118, -0.018432382033145168, 0.9997797700227612, -0.04026500180935522, -0.9990266311612511, -0.018014434890548905)\n",
      "Label direction:  (0.9991386549298819, -0.04007558215315008, -0.010765483086944135, 0.010033065516574909, -0.018432385326721045, 0.9997797681607259, -0.04026519366955139, -0.9990266237124281, -0.01801442617431886)\n",
      "Image:  I009_CORONAL_T2.nii.gz\n",
      "Origins do not match\n",
      "Image origin:  (0.0, 0.0, 0.0)\n",
      "Label origin:  (-153.27101135253906, -82.77776336669922, 192.82200622558594)\n",
      "Spacings do not match\n",
      "Image spacing:  (1.0, 1.0, 1.0)\n",
      "Label spacing:  (0.7102272510528564, 0.7102272510528564, 3.2999987602233887)\n",
      "Directions do not match\n",
      "Image direction:  (0.9993168794738886, 0.0, -0.0369563850852537, 0.0369563850852537, 0.0, 0.9993168794738886, 0.0, -1.0, 0.0)\n",
      "Label direction:  (0.9993168737035223, -1.5596229807963412e-07, -0.03695654103875666, 0.03695654111783315, -2.8828981469214077e-09, 0.9993168737064588, -1.5596229959517414e-07, -0.9999999999999878, 2.882898176729145e-09)\n",
      "Image:  I013_CORONAL_T2.nii.gz\n",
      "Origins do not match\n",
      "Image origin:  (0.0, 0.0, 0.0)\n",
      "Label origin:  (-199.42420959472656, -68.5215835571289, 201.40748596191406)\n",
      "Spacings do not match\n",
      "Image spacing:  (1.0, 1.0, 1.0)\n",
      "Label spacing:  (0.84375, 0.84375, 4.399999141693115)\n",
      "Directions do not match\n",
      "Image direction:  (0.9999343365711894, 4.5407155921159013e-07, 0.011459604970433588, -0.011457868159766222, 0.0174492296217404, 0.9997820970599526, -0.0001995073149216162, -0.9998477506027612, 0.01744809022000376)\n",
      "Label direction:  (0.9999343675060619, -2.292936623601434e-06, 0.011456905531414846, -0.01145512079990048, 0.01744927494032428, 0.9997821277803374, -0.00020220710058907048, -0.9998477498093394, 0.017448102666637773)\n",
      "Image:  I014_CORONAL_T2.nii.gz\n",
      "Directions do not match\n",
      "Image direction:  (1.0, 0.0, 0.0, 0.0, 0.056238902513748315, 0.9984173405165043, 0.0, -0.9984173405165043, 0.056238902513748315)\n",
      "Label direction:  (-1.0, 0.0, 0.0, 0.0, -1.0, 0.0, 0.0, 0.0, 1.0)\n",
      "Image:  I101_CORONAL_T2.nii.gz\n",
      "Directions do not match\n",
      "Image direction:  (0.9999723003444971, 0.0, 0.0074430197994576255, -0.0074430197994576255, -0.0, 0.9999723003444971, 0.0, -1.0, 0.0)\n",
      "Label direction:  (-1.0, 0.0, 0.0, 0.0, -1.0, 0.0, 0.0, 0.0, 1.0)\n",
      "Image:  I102_CORONAL_T2.nii.gz\n",
      "Directions do not match\n",
      "Image direction:  (1.0, 0.0, 0.0, 0.0, -0.0, 1.0, 0.0, -1.0, 0.0)\n",
      "Label direction:  (-1.0, 0.0, 0.0, 0.0, -1.0, 0.0, 0.0, 0.0, 1.0)\n",
      "Image:  I103_CORONAL_T2.nii.gz\n",
      "Directions do not match\n",
      "Image direction:  (1.0, 0.0, 0.0, 0.0, 0.075619728668705, 0.9971367291580786, 0.0, -0.9971367291580786, 0.075619728668705)\n",
      "Label direction:  (-1.0, 0.0, 0.0, 0.0, -1.0, 0.0, 0.0, 0.0, 1.0)\n",
      "Image:  I104_CORONAL_T2.nii.gz\n",
      "Directions do not match\n",
      "Image direction:  (0.9994647254132973, 0.0002161967231268459, 0.03271415716896463, -0.032714869012760876, 0.006604978674820726, 0.9994429005402488, -1.2957018815671702e-11, -0.9999781635194251, 0.006608515750071341)\n",
      "Label direction:  (-1.0, 0.0, 0.0, 0.0, -1.0, 0.0, 0.0, 0.0, 1.0)\n",
      "Image:  I105_CORONAL_T2.nii.gz\n",
      "Directions do not match\n",
      "Image direction:  (1.0, 0.0, 0.0, 0.0, -0.0, 1.0, 0.0, -1.0, 0.0)\n",
      "Label direction:  (-1.0, 0.0, 0.0, 0.0, -1.0, 0.0, 0.0, 0.0, 1.0)\n",
      "Image:  I106_CORONAL_T2.nii.gz\n",
      "Directions do not match\n",
      "Image direction:  (1.0, 0.0, 0.0, 0.0, 0.0076724496584232756, 0.9999705663249489, 0.0, -0.9999705663249489, 0.0076724496584232756)\n",
      "Label direction:  (-1.0, 0.0, 0.0, 0.0, -1.0, 0.0, 0.0, 0.0, 1.0)\n",
      "Image:  I107_CORONAL_T2.nii.gz\n",
      "Directions do not match\n",
      "Image direction:  (0.998971318623219, 2.6317631549660283e-10, 0.04534649491705663, -0.04526667931301917, 0.05930549310895003, 0.9972130093834847, -0.0026892958482912944, -0.9982398802327546, 0.059244487634474687)\n",
      "Label direction:  (-1.0, 0.0, 0.0, 0.0, -1.0, 0.0, 0.0, 0.0, 1.0)\n",
      "Image:  I108_CORONAL_T2.nii.gz\n",
      "Directions do not match\n",
      "Image direction:  (1.0, 0.0, 0.0, 0.0, -0.030138402639430358, 0.9995457351649016, 0.0, -0.9995457351649016, -0.030138402639430358)\n",
      "Label direction:  (-1.0, 0.0, 0.0, 0.0, -1.0, 0.0, 0.0, 0.0, 1.0)\n",
      "Image:  I109_CORONAL_T2.nii.gz\n",
      "Directions do not match\n",
      "Image direction:  (1.0, 0.0, 0.0, 0.0, -0.0, 1.0, 0.0, -1.0, 0.0)\n",
      "Label direction:  (-1.0, 0.0, 0.0, 0.0, -1.0, 0.0, 0.0, 0.0, 1.0)\n",
      "Image:  I110_CORONAL_T2.nii.gz\n",
      "Directions do not match\n",
      "Image direction:  (0.9998652158294942, -0.01641798020779799, 2.4929351791200995e-12, -0.0008255169138518363, -0.05027448390150959, 0.9987350971931049, -0.016397216107134356, -0.9986004837743336, -0.05028126524540997)\n",
      "Label direction:  (-1.0, 0.0, 0.0, 0.0, -1.0, 0.0, 0.0, 0.0, 1.0)\n",
      "Image:  I111_CORONAL_T2.nii.gz\n",
      "Directions do not match\n",
      "Image direction:  (1.0, 0.0, 0.0, 0.0, -0.0, 1.0, 0.0, -1.0, 0.0)\n",
      "Label direction:  (-1.0, 0.0, 0.0, 0.0, -1.0, 0.0, 0.0, 0.0, 1.0)\n",
      "Image:  I112_CORONAL_T2.nii.gz\n",
      "Directions do not match\n",
      "Image direction:  (0.9993274973924211, 8.421997768462681e-16, -0.036668146295930674, 0.036668146313776864, -3.1241219388209105e-05, 0.9993274969060537, -1.145557640298784e-06, -0.9999999995119933, -3.12202087171138e-05)\n",
      "Label direction:  (-1.0, 0.0, 0.0, 0.0, -1.0, 0.0, 0.0, 0.0, 1.0)\n",
      "Image:  I113_CORONAL_T2.nii.gz\n",
      "Directions do not match\n",
      "Image direction:  (1.0, 0.0, 0.0, 0.0, 0.021817487415017524, 0.9997619702923769, 0.0, -0.9997619702923769, 0.021817487415017524)\n",
      "Label direction:  (-1.0, 0.0, 0.0, 0.0, -1.0, 0.0, 0.0, 0.0, 1.0)\n",
      "Image:  I114_CORONAL_T2.nii.gz\n",
      "Directions do not match\n",
      "Image direction:  (1.0, 0.0, 0.0, 0.0, -0.0, 1.0, 0.0, -1.0, 0.0)\n",
      "Label direction:  (-1.0, 0.0, 0.0, 0.0, -1.0, 0.0, 0.0, 0.0, 1.0)\n",
      "Image:  I115_CORONAL_T2.nii.gz\n",
      "Directions do not match\n",
      "Image direction:  (0.9992981599825437, -1.066847762862537e-11, -0.03745914194057576, 0.037458233710521524, -0.006970750326344243, 0.9992738811306104, -0.0002611183457184622, -0.9999757040247966, -0.006965857825313013)\n",
      "Label direction:  (-1.0, 0.0, 0.0, 0.0, -1.0, 0.0, 0.0, 0.0, 1.0)\n",
      "Image:  I116_CORONAL_T2.nii.gz\n",
      "Directions do not match\n",
      "Image direction:  (0.9993923297123266, 0.0, 0.03485643860419751, -0.03485643860419751, -0.0, 0.9993923297123266, 0.0, -1.0, 0.0)\n",
      "Label direction:  (-1.0, 0.0, 0.0, 0.0, -1.0, 0.0, 0.0, 0.0, 1.0)\n",
      "Image:  I117_CORONAL_T2.nii.gz\n",
      "Directions do not match\n",
      "Image direction:  (0.9995179562216835, -0.0011393939026512893, -0.031025100467041797, 0.03103173085152706, 0.0669787830880863, 0.9972717155548444, 0.0009417381734019215, -0.9977537493778581, 0.06698185198475422)\n",
      "Label direction:  (-1.0, 0.0, 0.0, 0.0, -1.0, 0.0, 0.0, 0.0, 1.0)\n",
      "Image:  I118_CORONAL_T2.nii.gz\n",
      "Directions do not match\n",
      "Image direction:  (1.0, 0.0, 0.0, 0.0, 0.13101509732191532, 0.991380373153377, 0.0, -0.991380373153377, 0.13101509732191532)\n",
      "Label direction:  (-1.0, 0.0, 0.0, 0.0, -1.0, 0.0, 0.0, 0.0, 1.0)\n",
      "Image:  I119_CORONAL_T2.nii.gz\n",
      "Directions do not match\n",
      "Image direction:  (1.0, 0.0, 0.0, 0.0, 0.024327045080449913, 0.9997040536467048, 0.0, -0.9997040536467048, 0.024327045080449913)\n",
      "Label direction:  (-1.0, 0.0, 0.0, 0.0, -1.0, 0.0, 0.0, 0.0, 1.0)\n",
      "Image:  I120_CORONAL_T2.nii.gz\n"
     ]
    }
   ],
   "source": [
    "inspect_geometry(\n",
    "    coronal_labels_dir.parent.parent / \"images\" / \"coronal\",\n",
    "    coronal_binary_labels_dir.parent / \"coronal\"\n",
    ")"
   ]
  },
  {
   "cell_type": "code",
   "execution_count": 61,
   "metadata": {},
   "outputs": [
    {
     "name": "stdout",
     "output_type": "stream",
     "text": [
      "Correcting label direction for:  A003_CORONAL_T2_SEG.nii.gz\n",
      "Correcting label direction for:  A101_CORONAL_T2_SEG.nii.gz\n",
      "Correcting label direction for:  A102_CORONAL_T2_SEG.nii.gz\n",
      "Correcting label direction for:  A103_CORONAL_T2_SEG.nii.gz\n",
      "Correcting label direction for:  A104_CORONAL_T2_SEG.nii.gz\n",
      "Correcting label direction for:  A105_CORONAL_T2_SEG.nii.gz\n",
      "Correcting label direction for:  A106_CORONAL_T2_SEG.nii.gz\n",
      "Correcting label direction for:  A107_CORONAL_T2_SEG.nii.gz\n",
      "Correcting label direction for:  A108_CORONAL_T2_SEG.nii.gz\n",
      "Correcting label direction for:  A109_CORONAL_T2_SEG.nii.gz\n",
      "Correcting label direction for:  A110_CORONAL_T2_SEG.nii.gz\n",
      "Correcting label direction for:  A111_CORONAL_T2_SEG.nii.gz\n",
      "Correcting label direction for:  A112_CORONAL_T2_SEG.nii.gz\n",
      "Correcting label direction for:  A113_CORONAL_T2_SEG.nii.gz\n",
      "Correcting label direction for:  I003_CORONAL_T2_SEG.nii.gz\n",
      "Correcting label direction for:  I005_CORONAL_T2_SEG.nii.gz\n",
      "Correcting label direction for:  I006_CORONAL_T2_SEG.nii.gz\n",
      "Correcting label direction for:  I009_CORONAL_T2_SEG.nii.gz\n",
      "Correcting label direction for:  I013_CORONAL_T2_SEG.nii.gz\n",
      "Correcting label direction for:  I014_CORONAL_T2_SEG.nii.gz\n",
      "Correcting label direction for:  I101_CORONAL_T2_SEG.nii.gz\n",
      "Correcting label direction for:  I102_CORONAL_T2_SEG.nii.gz\n",
      "Correcting label direction for:  I103_CORONAL_T2_SEG.nii.gz\n",
      "Correcting label direction for:  I104_CORONAL_T2_SEG.nii.gz\n",
      "Correcting label direction for:  I105_CORONAL_T2_SEG.nii.gz\n",
      "Correcting label direction for:  I106_CORONAL_T2_SEG.nii.gz\n",
      "Correcting label direction for:  I107_CORONAL_T2_SEG.nii.gz\n",
      "Correcting label direction for:  I108_CORONAL_T2_SEG.nii.gz\n",
      "Correcting label direction for:  I109_CORONAL_T2_SEG.nii.gz\n",
      "Correcting label direction for:  I110_CORONAL_T2_SEG.nii.gz\n",
      "Correcting label direction for:  I111_CORONAL_T2_SEG.nii.gz\n",
      "Correcting label direction for:  I112_CORONAL_T2_SEG.nii.gz\n",
      "Correcting label direction for:  I113_CORONAL_T2_SEG.nii.gz\n",
      "Correcting label direction for:  I114_CORONAL_T2_SEG.nii.gz\n",
      "Correcting label direction for:  I115_CORONAL_T2_SEG.nii.gz\n",
      "Correcting label direction for:  I116_CORONAL_T2_SEG.nii.gz\n",
      "Correcting label direction for:  I117_CORONAL_T2_SEG.nii.gz\n",
      "Correcting label direction for:  I118_CORONAL_T2_SEG.nii.gz\n",
      "Correcting label direction for:  I119_CORONAL_T2_SEG.nii.gz\n",
      "Correcting label direction for:  I120_CORONAL_T2_SEG.nii.gz\n"
     ]
    }
   ],
   "source": [
    "correct_directions(\n",
    "    coronal_labels_dir.parent.parent / \"images\" / \"coronal\",\n",
    "    coronal_binary_labels_dir.parent / \"coronal\"\n",
    ")"
   ]
  },
  {
   "cell_type": "code",
   "execution_count": 62,
   "metadata": {},
   "outputs": [
    {
     "name": "stdout",
     "output_type": "stream",
     "text": [
      "Origins do not match\n",
      "Image origin:  (0.0, 0.0, 0.0)\n",
      "Label origin:  (-178.53228759765625, -70.2840576171875, 199.4116668701172)\n",
      "Spacings do not match\n",
      "Image spacing:  (1.0, 1.0, 1.0)\n",
      "Label spacing:  (0.84375, 0.84375, 4.399999618530273)\n",
      "Image:  A003_CORONAL_T2.nii.gz\n",
      "Origins do not match\n",
      "Image origin:  (0.0, 0.0, 0.0)\n",
      "Label origin:  (-187.13754272460938, -58.9073371887207, 208.877685546875)\n",
      "Spacings do not match\n",
      "Image spacing:  (1.0, 1.0, 1.0)\n",
      "Label spacing:  (0.84375, 0.84375, 4.399999141693115)\n",
      "Image:  I003_CORONAL_T2.nii.gz\n",
      "Origins do not match\n",
      "Image origin:  (0.0, 0.0, 0.0)\n",
      "Label origin:  (-175.69540405273438, -79.44647216796875, 194.7180633544922)\n",
      "Spacings do not match\n",
      "Image spacing:  (1.0, 1.0, 1.0)\n",
      "Label spacing:  (0.5208333134651184, 0.5208333134651184, 3.3000049591064453)\n",
      "Image:  I005_CORONAL_T2.nii.gz\n",
      "Origins do not match\n",
      "Image origin:  (0.0, 0.0, 0.0)\n",
      "Label origin:  (-174.56900024414062, -104.18670654296875, 188.55226135253906)\n",
      "Spacings do not match\n",
      "Image spacing:  (1.0, 1.0, 1.0)\n",
      "Label spacing:  (0.5208333134651184, 0.5208333134651184, 3.299994945526123)\n",
      "Image:  I006_CORONAL_T2.nii.gz\n",
      "Origins do not match\n",
      "Image origin:  (0.0, 0.0, 0.0)\n",
      "Label origin:  (-190.87998962402344, -83.41834259033203, 255.0560302734375)\n",
      "Spacings do not match\n",
      "Image spacing:  (1.0, 1.0, 1.0)\n",
      "Label spacing:  (0.84375, 0.84375, 4.399993896484375)\n",
      "Image:  I009_CORONAL_T2.nii.gz\n",
      "Origins do not match\n",
      "Image origin:  (0.0, 0.0, 0.0)\n",
      "Label origin:  (-153.27101135253906, -82.77776336669922, 192.82200622558594)\n",
      "Spacings do not match\n",
      "Image spacing:  (1.0, 1.0, 1.0)\n",
      "Label spacing:  (0.7102272510528564, 0.7102272510528564, 3.2999987602233887)\n",
      "Image:  I013_CORONAL_T2.nii.gz\n",
      "Origins do not match\n",
      "Image origin:  (0.0, 0.0, 0.0)\n",
      "Label origin:  (-199.42420959472656, -68.5215835571289, 201.40748596191406)\n",
      "Spacings do not match\n",
      "Image spacing:  (1.0, 1.0, 1.0)\n",
      "Label spacing:  (0.84375, 0.84375, 4.399999141693115)\n",
      "Image:  I014_CORONAL_T2.nii.gz\n"
     ]
    }
   ],
   "source": [
    "inspect_geometry(\n",
    "    coronal_labels_dir.parent.parent / \"images\" / \"coronal\",\n",
    "    coronal_binary_labels_dir.parent / \"coronal\"\n",
    ")"
   ]
  },
  {
   "cell_type": "code",
   "execution_count": 51,
   "metadata": {},
   "outputs": [
    {
     "data": {
      "text/plain": [
       "True"
      ]
     },
     "execution_count": 51,
     "metadata": {},
     "output_type": "execute_result"
    }
   ],
   "source": [
    "compare_geometry(\n",
    "    coronal_labels_dir.parent.parent / \"images\" / \"coronal\" / \"A003_CORONAL_T2.nii.gz\",\n",
    "    coronal_binary_labels_dir.parent / \"coronal\" / \"A003_CORONAL_T2_SEG.nii.gz\"\n",
    ")"
   ]
  },
  {
   "cell_type": "code",
   "execution_count": 63,
   "metadata": {},
   "outputs": [],
   "source": [
    "def correct_geometry(img_path, label_path):\n",
    "    img = sitk.ReadImage(str(img_path))\n",
    "    label = sitk.ReadImage(str(label_path))\n",
    "\n",
    "    if not compare_geometry(img_path, label_path):\n",
    "        # correct the label direction using resample\n",
    "        print(\"Correcting geometry for: \", label_path.name)\n",
    "        label.SetOrigin((0.0, 0.0, 0.0))\n",
    "        label.SetSpacing((1.0, 1.0, 1.0))\n",
    "        \n",
    "        img.SetOrigin((0.0, 0.0, 0.0))\n",
    "        img.SetSpacing((1.0, 1.0, 1.0))\n",
    "        \n",
    "        img_direction = img.GetDirection()\n",
    "        resample_transform = sitk.Transform(3, sitk.sitkIdentity)\n",
    "        resample_transform.SetParameters(img_direction)\n",
    "        # resample the label\n",
    "        label = sitk.Resample(label, img, resample_transform, sitk.sitkNearestNeighbor, 0.0, label.GetPixelID())\n",
    "        # write the label\n",
    "        sitk.WriteImage(label, str(label_path))\n",
    "        # write the image\n",
    "        sitk.WriteImage(img, str(img_path))"
   ]
  },
  {
   "cell_type": "code",
   "execution_count": 31,
   "metadata": {},
   "outputs": [
    {
     "name": "stdout",
     "output_type": "stream",
     "text": [
      "Image:  I108_CORONAL_T2.nii.gz\n",
      "Origins do not match\n",
      "Image origin:  (-208.1724395751953, -88.6630859375, 201.2852020263672)\n",
      "Label origin:  (0.0, 0.0, 0.0)\n",
      "Correcting geometry for:  I108_CORONAL_T2_SEG.nii.gz\n"
     ]
    }
   ],
   "source": [
    "correct_geometry(\n",
    "    coronal_labels_dir.parent.parent / \"images\" / \"coronal\" / \"I108_CORONAL_T2.nii.gz\",\n",
    "    coronal_binary_labels_dir.parent / \"coronal\" / \"I108_CORONAL_T2_SEG.nii.gz\"\n",
    ")"
   ]
  },
  {
   "cell_type": "code",
   "execution_count": 33,
   "metadata": {},
   "outputs": [
    {
     "name": "stdout",
     "output_type": "stream",
     "text": [
      "Image:  I108_CORONAL_T2.nii.gz\n",
      "Geometry matches\n"
     ]
    },
    {
     "data": {
      "text/plain": [
       "True"
      ]
     },
     "execution_count": 33,
     "metadata": {},
     "output_type": "execute_result"
    }
   ],
   "source": [
    "compare_geometry(\n",
    "    coronal_labels_dir.parent.parent / \"images\" / \"coronal\" / \"I108_CORONAL_T2.nii.gz\",\n",
    "    coronal_binary_labels_dir.parent / \"coronal\" / \"I108_CORONAL_T2_SEG.nii.gz\"\n",
    ")"
   ]
  },
  {
   "cell_type": "code",
   "execution_count": 64,
   "metadata": {},
   "outputs": [],
   "source": [
    "def correct_geometries(img_dir, label_dir):\n",
    "    for img_path in sorted(img_dir.iterdir()):\n",
    "        # the label name is image name + \"_SEG.nii.gz\"\n",
    "        label_path = label_dir / (img_path.name[:-7] + \"_SEG.nii.gz\")\n",
    "        if label_path.exists():\n",
    "            correct_geometry(img_path, label_path)"
   ]
  },
  {
   "cell_type": "code",
   "execution_count": 65,
   "metadata": {},
   "outputs": [
    {
     "name": "stdout",
     "output_type": "stream",
     "text": [
      "Origins do not match\n",
      "Image origin:  (0.0, 0.0, 0.0)\n",
      "Label origin:  (-178.53228759765625, -70.2840576171875, 199.4116668701172)\n",
      "Spacings do not match\n",
      "Image spacing:  (1.0, 1.0, 1.0)\n",
      "Label spacing:  (0.84375, 0.84375, 4.399999618530273)\n",
      "Image:  A003_CORONAL_T2.nii.gz\n",
      "Correcting geometry for:  A003_CORONAL_T2_SEG.nii.gz\n",
      "Origins do not match\n",
      "Image origin:  (0.0, 0.0, 0.0)\n",
      "Label origin:  (-187.13754272460938, -58.9073371887207, 208.877685546875)\n",
      "Spacings do not match\n",
      "Image spacing:  (1.0, 1.0, 1.0)\n",
      "Label spacing:  (0.84375, 0.84375, 4.399999141693115)\n",
      "Image:  I003_CORONAL_T2.nii.gz\n",
      "Correcting geometry for:  I003_CORONAL_T2_SEG.nii.gz\n",
      "Origins do not match\n",
      "Image origin:  (0.0, 0.0, 0.0)\n",
      "Label origin:  (-175.69540405273438, -79.44647216796875, 194.7180633544922)\n",
      "Spacings do not match\n",
      "Image spacing:  (1.0, 1.0, 1.0)\n",
      "Label spacing:  (0.5208333134651184, 0.5208333134651184, 3.3000049591064453)\n",
      "Image:  I005_CORONAL_T2.nii.gz\n",
      "Correcting geometry for:  I005_CORONAL_T2_SEG.nii.gz\n",
      "Origins do not match\n",
      "Image origin:  (0.0, 0.0, 0.0)\n",
      "Label origin:  (-174.56900024414062, -104.18670654296875, 188.55226135253906)\n",
      "Spacings do not match\n",
      "Image spacing:  (1.0, 1.0, 1.0)\n",
      "Label spacing:  (0.5208333134651184, 0.5208333134651184, 3.299994945526123)\n",
      "Image:  I006_CORONAL_T2.nii.gz\n",
      "Correcting geometry for:  I006_CORONAL_T2_SEG.nii.gz\n",
      "Origins do not match\n",
      "Image origin:  (0.0, 0.0, 0.0)\n",
      "Label origin:  (-190.87998962402344, -83.41834259033203, 255.0560302734375)\n",
      "Spacings do not match\n",
      "Image spacing:  (1.0, 1.0, 1.0)\n",
      "Label spacing:  (0.84375, 0.84375, 4.399993896484375)\n",
      "Image:  I009_CORONAL_T2.nii.gz\n",
      "Correcting geometry for:  I009_CORONAL_T2_SEG.nii.gz\n",
      "Origins do not match\n",
      "Image origin:  (0.0, 0.0, 0.0)\n",
      "Label origin:  (-153.27101135253906, -82.77776336669922, 192.82200622558594)\n",
      "Spacings do not match\n",
      "Image spacing:  (1.0, 1.0, 1.0)\n",
      "Label spacing:  (0.7102272510528564, 0.7102272510528564, 3.2999987602233887)\n",
      "Image:  I013_CORONAL_T2.nii.gz\n",
      "Correcting geometry for:  I013_CORONAL_T2_SEG.nii.gz\n",
      "Origins do not match\n",
      "Image origin:  (0.0, 0.0, 0.0)\n",
      "Label origin:  (-199.42420959472656, -68.5215835571289, 201.40748596191406)\n",
      "Spacings do not match\n",
      "Image spacing:  (1.0, 1.0, 1.0)\n",
      "Label spacing:  (0.84375, 0.84375, 4.399999141693115)\n",
      "Image:  I014_CORONAL_T2.nii.gz\n",
      "Correcting geometry for:  I014_CORONAL_T2_SEG.nii.gz\n"
     ]
    }
   ],
   "source": [
    "correct_geometries(\n",
    "    coronal_labels_dir.parent.parent / \"images\" / \"coronal\",\n",
    "    coronal_binary_labels_dir.parent / \"coronal\"\n",
    ")"
   ]
  },
  {
   "cell_type": "code",
   "execution_count": 66,
   "metadata": {},
   "outputs": [],
   "source": [
    "inspect_geometry(\n",
    "    coronal_labels_dir.parent.parent / \"images\" / \"coronal\",\n",
    "    coronal_binary_labels_dir.parent / \"coronal\"\n",
    ")"
   ]
  },
  {
   "cell_type": "code",
   "execution_count": 68,
   "metadata": {},
   "outputs": [],
   "source": [
    "base_path = base_path.parent.parent"
   ]
  },
  {
   "cell_type": "code",
   "execution_count": 69,
   "metadata": {},
   "outputs": [
    {
     "data": {
      "text/plain": [
       "PosixPath('/Users/frankfan/Learn/Imperial/final-year-project/software_archive')"
      ]
     },
     "execution_count": 69,
     "metadata": {},
     "output_type": "execute_result"
    }
   ],
   "source": [
    "base_path"
   ]
  },
  {
   "cell_type": "code",
   "execution_count": 70,
   "metadata": {},
   "outputs": [],
   "source": [
    "crohns_data_path = base_path / \"processed_crohns\""
   ]
  },
  {
   "cell_type": "code",
   "execution_count": 71,
   "metadata": {},
   "outputs": [],
   "source": [
    "inspect_geometry(\n",
    "    crohns_data_path / \"Crohns2023Coronal\",\n",
    "    crohns_data_path / \"Crohns2023CoronalLabels\"\n",
    ")"
   ]
  },
  {
   "cell_type": "code",
   "execution_count": 72,
   "metadata": {},
   "outputs": [],
   "source": [
    "inspect_geometry(\n",
    "    crohns_data_path / \"Crohns2023Axial\",\n",
    "    crohns_data_path / \"Crohns2023AxialLabels\"\n",
    ")"
   ]
  },
  {
   "cell_type": "code",
   "execution_count": null,
   "metadata": {},
   "outputs": [],
   "source": []
  }
 ],
 "metadata": {
  "kernelspec": {
   "display_name": "fyp",
   "language": "python",
   "name": "python3"
  },
  "language_info": {
   "codemirror_mode": {
    "name": "ipython",
    "version": 3
   },
   "file_extension": ".py",
   "mimetype": "text/x-python",
   "name": "python",
   "nbconvert_exporter": "python",
   "pygments_lexer": "ipython3",
   "version": "3.10.10"
  },
  "orig_nbformat": 4
 },
 "nbformat": 4,
 "nbformat_minor": 2
}
