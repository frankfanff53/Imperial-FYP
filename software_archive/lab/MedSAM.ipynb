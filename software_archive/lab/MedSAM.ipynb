{
 "cells": [
  {
   "cell_type": "code",
   "execution_count": 1,
   "metadata": {},
   "outputs": [
    {
     "data": {
      "text/plain": [
       "PosixPath('/Users/frankfan/Learn/Imperial/final-year-project/software_archive')"
      ]
     },
     "execution_count": 1,
     "metadata": {},
     "output_type": "execute_result"
    }
   ],
   "source": [
    "from pathlib import Path\n",
    "import numpy as np\n",
    "\n",
    "\n",
    "base_path = Path.cwd().parent\n",
    "base_path"
   ]
  },
  {
   "cell_type": "code",
   "execution_count": 9,
   "metadata": {},
   "outputs": [],
   "source": [
    "data_path = base_path / \"processed_crohns\"\n",
    "# find all annotated cases for axial images\n",
    "axial_path = data_path / \"Crohns2023Axial\"\n",
    "axial_labels_path = data_path / \"Crohns2023AxialLabels\"\n",
    "\n",
    "training_data_filenames = [f\"A{i}_axial.nii.gz\" for i in range(101, 114)] + [f\"I{i}_axial.nii.gz\" for i in range(101, 121)]"
   ]
  },
  {
   "cell_type": "code",
   "execution_count": 10,
   "metadata": {},
   "outputs": [],
   "source": [
    "import SimpleITK as sitk\n",
    "import shutil\n",
    "\n",
    "\n",
    "medsam_training_imgs_path = base_path / \"MedSAMTrainingData\"\n",
    "medsam_training_labels_path = base_path / \"MedSAMTrainingLabels\"\n",
    "medsam_training_imgs_path.mkdir(exist_ok=True)\n",
    "medsam_training_labels_path.mkdir(exist_ok=True)\n",
    "\n",
    "for filename in training_data_filenames:\n",
    "    shutil.copyfile(axial_path / filename, medsam_training_imgs_path / filename)\n",
    "    shutil.copyfile(axial_labels_path / filename, medsam_training_labels_path / filename)\n"
   ]
  },
  {
   "cell_type": "code",
   "execution_count": null,
   "metadata": {},
   "outputs": [],
   "source": []
  }
 ],
 "metadata": {
  "kernelspec": {
   "display_name": "fyp",
   "language": "python",
   "name": "python3"
  },
  "language_info": {
   "codemirror_mode": {
    "name": "ipython",
    "version": 3
   },
   "file_extension": ".py",
   "mimetype": "text/x-python",
   "name": "python",
   "nbconvert_exporter": "python",
   "pygments_lexer": "ipython3",
   "version": "3.10.10"
  },
  "orig_nbformat": 4
 },
 "nbformat": 4,
 "nbformat_minor": 2
}
