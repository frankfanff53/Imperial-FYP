{
 "cells": [
  {
   "cell_type": "code",
   "execution_count": 1,
   "metadata": {},
   "outputs": [
    {
     "data": {
      "text/plain": [
       "WindowsPath('d:/Frank/Imperial-FYP/software_archive')"
      ]
     },
     "execution_count": 1,
     "metadata": {},
     "output_type": "execute_result"
    }
   ],
   "source": [
    "import shutil\n",
    "from pathlib import Path\n",
    "import numpy as np\n",
    "\n",
    "\n",
    "base_path = Path.cwd().parent\n",
    "base_path"
   ]
  },
  {
   "cell_type": "code",
   "execution_count": 9,
   "metadata": {},
   "outputs": [],
   "source": [
    "import torch\n",
    "from matplotlib import pyplot as plt\n",
    "from segment_anything import sam_model_registry\n",
    "from segment_anything.utils.transforms import ResizeLongestSide\n",
    "from tqdm import tqdm\n",
    "\n",
    "import SimpleITK as sitk\n",
    "import shutil"
   ]
  },
  {
   "cell_type": "code",
   "execution_count": 3,
   "metadata": {},
   "outputs": [],
   "source": [
    "data_path = base_path / \"processed_crohns\"\n",
    "# find all annotated cases for axial images\n",
    "axial_path = data_path / \"Crohns2023Axial\"\n",
    "axial_labels_path = data_path / \"Crohns2023AxialLabels\"\n",
    "\n",
    "training_data_filenames = [f\"A{i}_axial.nii.gz\" for i in range(101, 114)] + [f\"I{i}_axial.nii.gz\" for i in range(101, 121)]"
   ]
  },
  {
   "cell_type": "code",
   "execution_count": 7,
   "metadata": {},
   "outputs": [],
   "source": [
    "training_data_path = base_path / \"lab\" / \"Crohns23AxialAnnotated\"\n",
    "training_data_path.mkdir(exist_ok=True)\n",
    "training_image_folder = training_data_path / \"images\"\n",
    "training_label_folder = training_data_path / \"labels\"\n",
    "training_image_folder.mkdir(exist_ok=True)\n",
    "training_label_folder.mkdir(exist_ok=True)\n",
    "\n",
    "for i, filename in enumerate(training_data_filenames):\n",
    "    new_filename = f\"Crohns23Axial_Tr_{i+1:04d}_0000.nii.gz\"\n",
    "    new_label_filename = f\"Crohns23Axial_Tr_{i+1:04d}.nii.gz\"\n",
    "    shutil.copyfile(axial_path / filename, training_image_folder/ new_filename)\n",
    "    shutil.copyfile(axial_labels_path / filename, training_label_folder / new_label_filename)\n"
   ]
  },
  {
   "cell_type": "code",
   "execution_count": 7,
   "metadata": {},
   "outputs": [],
   "source": [
    "coronal_path = data_path / \"Crohns2023Coronal\"\n",
    "coronal_labels_path = data_path / \"Crohns2023CoronalLabels\"\n",
    "\n",
    "training_data_filenames = [f\"A{i}_coronal.nii.gz\" for i in range(101, 114)] + [f\"I{i}_coronal.nii.gz\" for i in range(101, 121)]"
   ]
  },
  {
   "cell_type": "code",
   "execution_count": 8,
   "metadata": {},
   "outputs": [],
   "source": [
    "training_data_path = base_path / \"lab\" / \"Crohns23CoronalAnnotated\"\n",
    "training_data_path.mkdir(exist_ok=True)\n",
    "training_image_folder = training_data_path / \"images\"\n",
    "training_label_folder = training_data_path / \"labels\"\n",
    "training_image_folder.mkdir(exist_ok=True)\n",
    "training_label_folder.mkdir(exist_ok=True)\n",
    "\n",
    "\n",
    "for i, filename in enumerate(training_data_filenames):\n",
    "    new_filename = f\"Crohns23Coronal_Tr_{i+1:04d}_0000.nii.gz\"\n",
    "    new_label_filename = f\"Crohns23Coronal_Tr_{i+1:04d}.nii.gz\"\n",
    "    shutil.copyfile(coronal_path / filename, training_image_folder/ new_filename)\n",
    "    shutil.copyfile(coronal_labels_path / filename, training_label_folder / new_label_filename)"
   ]
  },
  {
   "cell_type": "code",
   "execution_count": 4,
   "metadata": {},
   "outputs": [],
   "source": [
    "import xml.etree.ElementTree as ET\n",
    "\n",
    "\n",
    "def get_centerline_points(centerline_path):\n",
    "    crohns_centerline = ET.parse(centerline_path)\n",
    "    root = crohns_centerline.getroot()\n",
    "    centerline_points = []\n",
    "    for path in root:\n",
    "        if 'name' not in path.attrib:\n",
    "            continue\n",
    "\n",
    "        for point in path:\n",
    "            centerline_points.append([int(point.attrib['x']), int(point.attrib['y']), int(point.attrib['z'])])\n",
    "    \n",
    "    crohns_centerline_size = int(len(centerline_points) * 0.2)\n",
    "    return np.array(centerline_points[:crohns_centerline_size])"
   ]
  },
  {
   "cell_type": "code",
   "execution_count": 5,
   "metadata": {},
   "outputs": [],
   "source": [
    "def get_bbox_from_centerline(centerline_points):\n",
    "    min_x = np.min(centerline_points[:, 0])\n",
    "    max_x = np.max(centerline_points[:, 0])\n",
    "    min_y = np.min(centerline_points[:, 1])\n",
    "    max_y = np.max(centerline_points[:, 1])\n",
    "    min_z = np.min(centerline_points[:, 2])\n",
    "    max_z = np.max(centerline_points[:, 2])\n",
    "    \n",
    "    # the top left corner of the bounding box\n",
    "    index = (int(min_x), int(min_y), int(min_z))\n",
    "    # the size of the bounding box\n",
    "    size = (int(max_x - min_x + 1), int(max_y - min_y + 1), int(max_z - min_z + 1))\n",
    "    return index, size"
   ]
  },
  {
   "cell_type": "code",
   "execution_count": 41,
   "metadata": {},
   "outputs": [],
   "source": [
    "axial_centerlines_path = data_path / \"Crohns2023AxialCenterlines\"\n",
    "\n",
    "axial_filenames = [f.name[:-4] for f in axial_centerlines_path.glob(\"*.xml\")]\n",
    "\n",
    "proxy_training_data_path = base_path / \"lab\" / \"Crohns23AxialProxy\"\n",
    "proxy_training_data_path.mkdir(exist_ok=True)\n",
    "\n",
    "proxy_training_image_folder = proxy_training_data_path / \"images\"\n",
    "proxy_training_label_folder = proxy_training_data_path / \"labels\"\n",
    "proxy_training_image_folder.mkdir(exist_ok=True)\n",
    "proxy_training_label_folder.mkdir(exist_ok=True)\n",
    "\n",
    "\n",
    "for i, filename in enumerate(axial_filenames):\n",
    "    original_image_name = f\"{filename}.nii.gz\"\n",
    "    new_image_name = f\"Crohns23Axial_Tr_{i+1:04d}_0000.nii.gz\"\n",
    "    new_label_name = f\"Crohns23Axial_Tr_{i+1:04d}.nii.gz\"\n",
    "    shutil.copyfile(axial_path / original_image_name, proxy_training_image_folder / new_image_name)\n",
    "\n",
    "    # construct a psuedo label by introducing the centerline\n",
    "    image = sitk.ReadImage(str(axial_path / original_image_name))\n",
    "    image = sitk.GetArrayFromImage(image)\n",
    "    label = np.zeros_like(image)\n",
    "\n",
    "    # get the centerline points\n",
    "    centerline_points = get_centerline_points(axial_centerlines_path / f\"{filename}.xml\")\n",
    "    # get the bounding box corner and size\n",
    "    index, size = get_bbox_from_centerline(centerline_points)\n",
    "\n",
    "    xmin, ymin, zmin = index\n",
    "    xmax, ymax, zmax = np.array(index) + np.array(size)\n",
    "\n",
    "    label[zmin:zmax, ymin:ymax, xmin:xmax] = 1\n",
    "\n",
    "    # write the label\n",
    "    label = sitk.GetImageFromArray(label)\n",
    "    label.CopyInformation(sitk.ReadImage(str(axial_path / original_image_name)))\n",
    "    sitk.WriteImage(label, proxy_training_label_folder / new_label_name)"
   ]
  },
  {
   "cell_type": "code",
   "execution_count": 10,
   "metadata": {},
   "outputs": [],
   "source": [
    "coronal_centerlines_path = data_path / \"Crohns2023CoronalCenterlines\"\n",
    "\n",
    "coronal_filenames = [f.name[:-4] for f in coronal_centerlines_path.glob(\"*.xml\")]\n",
    "\n",
    "proxy_training_data_path = base_path / \"lab\" / \"Crohns23CoronalProxy\"\n",
    "proxy_training_data_path.mkdir(exist_ok=True)\n",
    "\n",
    "proxy_training_image_folder = proxy_training_data_path / \"images\"\n",
    "proxy_training_label_folder = proxy_training_data_path / \"labels\"\n",
    "proxy_training_image_folder.mkdir(exist_ok=True)\n",
    "proxy_training_label_folder.mkdir(exist_ok=True)\n",
    "\n",
    "for i, filename in enumerate(coronal_filenames):\n",
    "    original_image_name = f\"{filename}.nii.gz\"\n",
    "    new_image_name = f\"Crohns23Coronal_Tr_{i+1:04d}_0000.nii.gz\"\n",
    "    new_label_name = f\"Crohns23Coronal_Tr_{i+1:04d}.nii.gz\"\n",
    "    shutil.copyfile(coronal_path / original_image_name, proxy_training_image_folder / new_image_name)\n",
    "\n",
    "    # construct a psuedo label by introducing the centerline\n",
    "    image = sitk.ReadImage(str(coronal_path / original_image_name))\n",
    "    image = sitk.GetArrayFromImage(image)\n",
    "    label = np.zeros_like(image)\n",
    "\n",
    "    # get the centerline points\n",
    "    centerline_points = get_centerline_points(coronal_centerlines_path / f\"{filename}.xml\")\n",
    "    # get the bounding box corner and size\n",
    "    index, size = get_bbox_from_centerline(centerline_points)\n",
    "\n",
    "    xmin, ymin, zmin = index\n",
    "    xmax, ymax, zmax = np.array(index) + np.array(size)\n",
    "\n",
    "    label[zmin:zmax, ymin:ymax, xmin:xmax] = 1\n",
    "\n",
    "    # write the label\n",
    "    label = sitk.GetImageFromArray(label)\n",
    "    label.CopyInformation(sitk.ReadImage(str(coronal_path / original_image_name)))\n",
    "    sitk.WriteImage(label, proxy_training_label_folder / new_label_name)"
   ]
  },
  {
   "cell_type": "code",
   "execution_count": null,
   "metadata": {},
   "outputs": [],
   "source": []
  }
 ],
 "metadata": {
  "kernelspec": {
   "display_name": "fyp",
   "language": "python",
   "name": "python3"
  },
  "language_info": {
   "codemirror_mode": {
    "name": "ipython",
    "version": 3
   },
   "file_extension": ".py",
   "mimetype": "text/x-python",
   "name": "python",
   "nbconvert_exporter": "python",
   "pygments_lexer": "ipython3",
   "version": "3.9.16"
  },
  "orig_nbformat": 4
 },
 "nbformat": 4,
 "nbformat_minor": 2
}
