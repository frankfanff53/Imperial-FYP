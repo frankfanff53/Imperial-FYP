{
 "cells": [
  {
   "cell_type": "code",
   "execution_count": 2,
   "metadata": {},
   "outputs": [],
   "source": [
    "import argparse\n",
    "import os\n",
    "import shutil\n",
    "from pathlib import Path\n",
    "\n",
    "import numpy as np\n",
    "import SimpleITK as sitk\n",
    "from nnunetv2.paths import nnUNet_raw\n",
    "from tqdm import tqdm\n",
    "\n",
    "from nnunetv2.dataset_conversion.generate_dataset_json import \\\n",
    "    generate_dataset_json"
   ]
  },
  {
   "cell_type": "code",
   "execution_count": 3,
   "metadata": {},
   "outputs": [],
   "source": [
    "MODALITY_ENCODINGS = {\n",
    "    'T2': 0,\n",
    "}"
   ]
  },
  {
   "cell_type": "code",
   "execution_count": 4,
   "metadata": {},
   "outputs": [],
   "source": [
    "base_path = Path(os.getcwd()).parent"
   ]
  },
  {
   "cell_type": "code",
   "execution_count": 5,
   "metadata": {},
   "outputs": [],
   "source": [
    "all_data_folder = base_path / \"lab\" / \"Npz_files\"\n",
    "task_name = \"MR_Crohns_Proxy_axial\"\n",
    "task_id = 1"
   ]
  },
  {
   "cell_type": "code",
   "execution_count": 29,
   "metadata": {},
   "outputs": [
    {
     "name": "stderr",
     "output_type": "stream",
     "text": [
      "100%|██████████| 97/97 [00:02<00:00, 39.69it/s]\n"
     ]
    }
   ],
   "source": [
    "npz_imgs_folder = all_data_folder / task_name / \"data\"\n",
    "npz_weak_masks_folder = all_data_folder / task_name / \"masks\"\n",
    "output_dataset_folder = Path(nnUNet_raw) / f\"Dataset{task_id:03d}_{task_name}\"\n",
    "output_dataset_folder.mkdir(exist_ok=True)\n",
    "\n",
    "# Train set\n",
    "images_folder = output_dataset_folder / \"imagesTr\"\n",
    "labels_folder = output_dataset_folder / \"labelsTr\"\n",
    "images_folder.mkdir(exist_ok=True)\n",
    "labels_folder.mkdir(exist_ok=True)\n",
    "\n",
    "npz_imgs_paths = sorted(npz_imgs_folder.glob(\"*.npz\"))\n",
    "npz_weak_masks_paths = sorted(npz_weak_masks_folder.glob(\"*.npz\"))\n",
    "\n",
    "for i, (img_file, gt_file) in tqdm(\n",
    "    enumerate(zip(npz_imgs_paths, npz_weak_masks_paths)),\n",
    "    total=len(npz_imgs_paths),\n",
    "):\n",
    "    img_data = np.load(img_file)\n",
    "    image_volume = img_data[\"imgs\"]\n",
    "    gt_data = np.load(gt_file)\n",
    "    weak_mask_volume = gt_data[\"gts\"]\n",
    "\n",
    "    # convert the 3-channel image to a single channel image\n",
    "    image_volume = image_volume[:, :, :, 0]\n",
    "\n",
    "    # Save the image volume\n",
    "    saved_image = sitk.GetImageFromArray(image_volume)\n",
    "    saved_image.SetSpacing((1, 1, 1))\n",
    "    saved_image.SetOrigin((0, 0, 0))\n",
    "    saved_image.SetDirection((1, 0, 0, 0, 1, 0, 0, 0, 1))\n",
    "    sitk.WriteImage(\n",
    "        saved_image,\n",
    "        str(images_folder / f\"{task_name}_Training_{i+1:03d}_0000.nii.gz\"),\n",
    "    )\n",
    "\n",
    "\n",
    "    # Save the weak mask volume\n",
    "    saved_weak_mask = sitk.GetImageFromArray(weak_mask_volume)\n",
    "    saved_weak_mask.SetSpacing((1, 1, 1))\n",
    "    saved_weak_mask.SetOrigin((0, 0, 0))\n",
    "    saved_weak_mask.SetDirection((1, 0, 0, 0, 1, 0, 0, 0, 1))\n",
    "    sitk.WriteImage(\n",
    "        saved_weak_mask,\n",
    "        str(labels_folder / f\"{task_name}_Training_{i+1:03d}.nii.gz\"),\n",
    "    )"
   ]
  },
  {
   "cell_type": "code",
   "execution_count": 30,
   "metadata": {},
   "outputs": [],
   "source": [
    "generate_dataset_json(\n",
    "    output_folder=str(output_dataset_folder),\n",
    "    channel_names={\n",
    "        encoding: modality for modality, encoding in MODALITY_ENCODINGS.items()\n",
    "    },\n",
    "    labels={\n",
    "        \"background\": 0,\n",
    "        \"terminal ileum\": 1,\n",
    "    },\n",
    "    num_training_cases=len(npz_imgs_paths),\n",
    "    file_ending=\".nii.gz\",\n",
    "    regions_class_order=(1,),\n",
    "    license=\"see https://www.synapse.org/#!Synapse:syn25829067/wiki/610863\",\n",
    "    reference=\"see https://www.synapse.org/#!Synapse:syn25829067/wiki/610863\",\n",
    "    dataset_release_date=\"1.0\",\n",
    ")"
   ]
  },
  {
   "cell_type": "code",
   "execution_count": 31,
   "metadata": {},
   "outputs": [
    {
     "name": "stdout",
     "output_type": "stream",
     "text": [
      "nnUNetv2_plan_and_preprocess -d 1 --verify_dataset_integrity\n"
     ]
    }
   ],
   "source": [
    "commands = [\n",
    "    \"nnUNetv2_plan_and_preprocess\",\n",
    "    \"-d\",\n",
    "    str(task_id),\n",
    "    \"--verify_dataset_integrity\",\n",
    "]\n",
    "\n",
    "print(\" \".join(commands))"
   ]
  },
  {
   "cell_type": "code",
   "execution_count": 7,
   "metadata": {},
   "outputs": [
    {
     "name": "stdout",
     "output_type": "stream",
     "text": [
      "nnUNetv2_train 1 2d 1 -device cuda --npz -tr nnUNetTrainer_10epochs\n",
      "nnUNetv2_train 1 2d 2 -device cuda --npz -tr nnUNetTrainer_10epochs\n",
      "nnUNetv2_train 1 2d 3 -device cuda --npz -tr nnUNetTrainer_10epochs\n",
      "nnUNetv2_train 1 2d 4 -device cuda --npz -tr nnUNetTrainer_10epochs\n"
     ]
    }
   ],
   "source": [
    "import subprocess\n",
    "\n",
    "trainer = \"nnUNetTrainer_10epochs\"\n",
    "for fold in range(1, 5):\n",
    "    commands = [\n",
    "        \"nnUNetv2_train\",\n",
    "        str(task_id),\n",
    "        \"2d\",\n",
    "        str(fold),\n",
    "        \"-device\",\n",
    "        \"cuda\",\n",
    "        '--npz',\n",
    "        '-tr',\n",
    "        trainer,\n",
    "    ]\n",
    "    print(\" \".join(commands))\n",
    "    subprocess.run(commands)"
   ]
  },
  {
   "cell_type": "code",
   "execution_count": 7,
   "metadata": {},
   "outputs": [
    {
     "name": "stdout",
     "output_type": "stream",
     "text": [
      "nnUNetv2_find_best_configuration 1 -c 2d -tr nnUNetTrainer_10epochs\n"
     ]
    },
    {
     "data": {
      "text/plain": [
       "CompletedProcess(args=['nnUNetv2_find_best_configuration', '1', '-c', '2d', '-tr', 'nnUNetTrainer_10epochs'], returncode=0)"
      ]
     },
     "execution_count": 7,
     "metadata": {},
     "output_type": "execute_result"
    }
   ],
   "source": [
    "import subprocess\n",
    "\n",
    "\n",
    "trainer = \"nnUNetTrainer_10epochs\"\n",
    "commands = [\n",
    "    \"nnUNetv2_find_best_configuration\",\n",
    "    str(task_id),\n",
    "    \"-c\",\n",
    "    \"2d\",\n",
    "    \"-tr\",\n",
    "    trainer,\n",
    "]\n",
    "print(\" \".join(commands))\n",
    "subprocess.run(commands)"
   ]
  },
  {
   "cell_type": "code",
   "execution_count": 6,
   "metadata": {},
   "outputs": [],
   "source": [
    "all_data_folder = base_path / \"lab\" / \"Npz_files\"\n",
    "task_name = \"MR_Crohns_axial\"\n",
    "task_id = 2"
   ]
  },
  {
   "cell_type": "code",
   "execution_count": 11,
   "metadata": {},
   "outputs": [
    {
     "name": "stderr",
     "output_type": "stream",
     "text": [
      "100%|██████████| 24/24 [00:00<00:00, 33.86it/s]\n"
     ]
    }
   ],
   "source": [
    "npz_data_folder = all_data_folder / task_name / \"train\"\n",
    "\n",
    "output_dataset_folder = Path(nnUNet_raw) / f\"Dataset{task_id:03d}_{task_name}\"\n",
    "output_dataset_folder.mkdir(exist_ok=True)\n",
    "\n",
    "# Train set\n",
    "images_folder = output_dataset_folder / \"imagesTr\"\n",
    "labels_folder = output_dataset_folder / \"labelsTr\"\n",
    "images_folder.mkdir(exist_ok=True)\n",
    "labels_folder.mkdir(exist_ok=True)\n",
    "\n",
    "npz_data_paths = sorted(npz_data_folder.glob(\"*.npz\"))\n",
    "\n",
    "for i, npz_file in tqdm(enumerate(npz_data_paths), total=len(npz_data_paths)):\n",
    "    npz_data = np.load(npz_file)\n",
    "    image_volume = npz_data[\"imgs\"]\n",
    "    gt_volume = npz_data[\"gts\"]\n",
    "\n",
    "    # convert the 3-channel image to a single channel image\n",
    "    if image_volume.shape[-1] == 3:\n",
    "        image_volume = image_volume[:, :, :, 0]\n",
    "\n",
    "    # Save the image volume\n",
    "    saved_image = sitk.GetImageFromArray(image_volume)\n",
    "    saved_image.SetSpacing((1, 1, 1))\n",
    "    saved_image.SetOrigin((0, 0, 0))\n",
    "    saved_image.SetDirection((1, 0, 0, 0, 1, 0, 0, 0, 1))\n",
    "    sitk.WriteImage(\n",
    "        saved_image,\n",
    "        str(images_folder / f\"{task_name}_Training_{i+1:03d}_0000.nii.gz\"),\n",
    "    )\n",
    "\n",
    "\n",
    "    # Save the gt volume\n",
    "    saved_gt = sitk.GetImageFromArray(gt_volume)\n",
    "    saved_gt.SetSpacing((1, 1, 1))\n",
    "    saved_gt.SetOrigin((0, 0, 0))\n",
    "    saved_gt.SetDirection((1, 0, 0, 0, 1, 0, 0, 0, 1))\n",
    "    sitk.WriteImage(\n",
    "        saved_gt,\n",
    "        str(labels_folder / f\"{task_name}_Training_{i+1:03d}.nii.gz\"),\n",
    "    )"
   ]
  },
  {
   "cell_type": "code",
   "execution_count": 13,
   "metadata": {},
   "outputs": [],
   "source": [
    "generate_dataset_json(\n",
    "    output_folder=str(output_dataset_folder),\n",
    "    channel_names={\n",
    "        encoding: modality for modality, encoding in MODALITY_ENCODINGS.items()\n",
    "    },\n",
    "    labels={\n",
    "        \"background\": 0,\n",
    "        \"terminal ileum\": 1,\n",
    "    },\n",
    "    num_training_cases=len(npz_data_paths),\n",
    "    file_ending=\".nii.gz\",\n",
    "    regions_class_order=(1,),\n",
    "    license=\"see https://www.synapse.org/#!Synapse:syn25829067/wiki/610863\",\n",
    "    reference=\"see https://www.synapse.org/#!Synapse:syn25829067/wiki/610863\",\n",
    "    dataset_release_date=\"1.0\",\n",
    ")"
   ]
  },
  {
   "cell_type": "code",
   "execution_count": 14,
   "metadata": {},
   "outputs": [
    {
     "name": "stdout",
     "output_type": "stream",
     "text": [
      "nnUNetv2_plan_and_preprocess -d 2 --verify_dataset_integrity\n"
     ]
    }
   ],
   "source": [
    "commands = [\n",
    "    \"nnUNetv2_plan_and_preprocess\",\n",
    "    \"-d\",\n",
    "    str(task_id),\n",
    "    \"--verify_dataset_integrity\",\n",
    "]\n",
    "\n",
    "print(\" \".join(commands))"
   ]
  },
  {
   "cell_type": "code",
   "execution_count": 15,
   "metadata": {},
   "outputs": [
    {
     "name": "stdout",
     "output_type": "stream",
     "text": [
      "nnUNetv2_train 2 2d 0 -pretrained_weights D:\\Frank\\Imperial-FYP\\software_archive\\data\\nnUNet_results\\Dataset001_MR_Crohns_Proxy_axial\\nnUNetTrainer_200epochs__nnUNetPlans__2d\\fold_all\\checkpoint_best.pth -tr nnUNetTrainer_50epochs\n",
      "nnUNetv2_train 2 2d 1 -pretrained_weights D:\\Frank\\Imperial-FYP\\software_archive\\data\\nnUNet_results\\Dataset001_MR_Crohns_Proxy_axial\\nnUNetTrainer_200epochs__nnUNetPlans__2d\\fold_all\\checkpoint_best.pth -tr nnUNetTrainer_50epochs\n",
      "nnUNetv2_train 2 2d 2 -pretrained_weights D:\\Frank\\Imperial-FYP\\software_archive\\data\\nnUNet_results\\Dataset001_MR_Crohns_Proxy_axial\\nnUNetTrainer_200epochs__nnUNetPlans__2d\\fold_all\\checkpoint_best.pth -tr nnUNetTrainer_50epochs\n",
      "nnUNetv2_train 2 2d 3 -pretrained_weights D:\\Frank\\Imperial-FYP\\software_archive\\data\\nnUNet_results\\Dataset001_MR_Crohns_Proxy_axial\\nnUNetTrainer_200epochs__nnUNetPlans__2d\\fold_all\\checkpoint_best.pth -tr nnUNetTrainer_50epochs\n",
      "nnUNetv2_train 2 2d 4 -pretrained_weights D:\\Frank\\Imperial-FYP\\software_archive\\data\\nnUNet_results\\Dataset001_MR_Crohns_Proxy_axial\\nnUNetTrainer_200epochs__nnUNetPlans__2d\\fold_all\\checkpoint_best.pth -tr nnUNetTrainer_50epochs\n"
     ]
    }
   ],
   "source": [
    "from nnunetv2.paths import nnUNet_results\n",
    "for fold in range(5):\n",
    "    commands = [\n",
    "        'nnUNetv2_train',\n",
    "        str(task_id),\n",
    "        '2d',\n",
    "        str(fold),\n",
    "        '-pretrained_weights',\n",
    "        str(Path(nnUNet_results) / \"Dataset001_MR_Crohns_Proxy_axial\" / \"nnUNetTrainer_200epochs__nnUNetPlans__2d\" / \"fold_all\" / \"checkpoint_best.pth\"),\n",
    "        '-tr',\n",
    "        'nnUNetTrainer_50epochs',\n",
    "    ]\n",
    "    print(\" \".join(commands))\n",
    "    subprocess.run(commands)"
   ]
  },
  {
   "cell_type": "code",
   "execution_count": 16,
   "metadata": {},
   "outputs": [
    {
     "name": "stderr",
     "output_type": "stream",
     "text": [
      "100%|██████████| 6/6 [00:00<00:00, 35.65it/s]\n"
     ]
    }
   ],
   "source": [
    "npz_data_folder = all_data_folder / task_name / \"val\"\n",
    "\n",
    "output_dataset_folder = Path(nnUNet_raw) / f\"Dataset{task_id:03d}_{task_name}\"\n",
    "output_dataset_folder.mkdir(exist_ok=True)\n",
    "\n",
    "# Train set\n",
    "images_folder = output_dataset_folder / \"imagesTs\"\n",
    "labels_folder = output_dataset_folder / \"labelsTs\"\n",
    "images_folder.mkdir(exist_ok=True)\n",
    "labels_folder.mkdir(exist_ok=True)\n",
    "\n",
    "npz_data_paths = sorted(npz_data_folder.glob(\"*.npz\"))\n",
    "\n",
    "for i, npz_file in tqdm(enumerate(npz_data_paths), total=len(npz_data_paths)):\n",
    "    npz_data = np.load(npz_file)\n",
    "    image_volume = npz_data[\"imgs\"]\n",
    "    gt_volume = npz_data[\"gts\"]\n",
    "\n",
    "    # convert the 3-channel image to a single channel image\n",
    "    if image_volume.shape[-1] == 3:\n",
    "        image_volume = image_volume[:, :, :, 0]\n",
    "\n",
    "    # Save the image volume\n",
    "    saved_image = sitk.GetImageFromArray(image_volume)\n",
    "    saved_image.SetSpacing((1, 1, 1))\n",
    "    saved_image.SetOrigin((0, 0, 0))\n",
    "    saved_image.SetDirection((1, 0, 0, 0, 1, 0, 0, 0, 1))\n",
    "    sitk.WriteImage(\n",
    "        saved_image,\n",
    "        str(images_folder / f\"{task_name}_Testing_{i+1:03d}_0000.nii.gz\"),\n",
    "    )\n",
    "\n",
    "\n",
    "    # Save the gt volume\n",
    "    saved_gt = sitk.GetImageFromArray(gt_volume)\n",
    "    saved_gt.SetSpacing((1, 1, 1))\n",
    "    saved_gt.SetOrigin((0, 0, 0))\n",
    "    saved_gt.SetDirection((1, 0, 0, 0, 1, 0, 0, 0, 1))\n",
    "    sitk.WriteImage(\n",
    "        saved_gt,\n",
    "        str(labels_folder / f\"{task_name}_Testing_{i+1:03d}.nii.gz\"),\n",
    "    )"
   ]
  },
  {
   "cell_type": "code",
   "execution_count": 18,
   "metadata": {},
   "outputs": [
    {
     "name": "stdout",
     "output_type": "stream",
     "text": [
      "nnUNetv2_predict -d Dataset002_MR_Crohns_axial -i D:\\Frank\\Imperial-FYP\\software_archive\\data\\nnUNet_raw\\Dataset002_MR_Crohns_axial\\imagesTs -o d:\\Frank\\Imperial-FYP\\software_archive\\inference\\Dataset002_MR_Crohns_axial -f  0 1 2 3 4 -tr nnUNetTrainer_50epochs -c 2d -p nnUNetPlans\n"
     ]
    }
   ],
   "source": [
    "all_data_folder = base_path / \"lab\" / \"Npz_files\"\n",
    "task_name = \"MR_Crohns_axial\"\n",
    "task_id = 2\n",
    "input_folder = Path(nnUNet_raw) / f\"Dataset{task_id:03d}_{task_name}\" / \"imagesTs\"\n",
    "output_folder = base_path / \"inference\" / f\"Dataset{task_id:03d}_{task_name}\"\n",
    "output_folder.mkdir(exist_ok=True)\n",
    "print(f\"nnUNetv2_predict -d Dataset{task_id:03d}_{task_name} -i {str(input_folder)} -o {str(output_folder)} -f  0 1 2 3 4 -tr nnUNetTrainer_50epochs -c 2d -p nnUNetPlans\")"
   ]
  },
  {
   "cell_type": "code",
   "execution_count": 13,
   "metadata": {},
   "outputs": [],
   "source": [
    "def compute_dice_coefficient(mask_gt, mask_pred):\n",
    "    \"\"\"Compute soerensen-dice coefficient.\n",
    "\n",
    "    compute the soerensen-dice coefficient between the ground truth mask `mask_gt`\n",
    "    and the predicted mask `mask_pred`.\n",
    "\n",
    "    Args:\n",
    "      mask_gt: 3-dim Numpy array of type bool. The ground truth mask.\n",
    "      mask_pred: 3-dim Numpy array of type bool. The predicted mask.\n",
    "\n",
    "    Returns:\n",
    "      the dice coeffcient as float. If both masks are empty, the result is NaN\n",
    "    \"\"\"\n",
    "    volume_sum = mask_gt.sum() + mask_pred.sum()\n",
    "    if volume_sum == 0:\n",
    "        return np.NaN\n",
    "    volume_intersect = (mask_gt & mask_pred).sum()\n",
    "    return 2 * volume_intersect / volume_sum"
   ]
  },
  {
   "cell_type": "code",
   "execution_count": 21,
   "metadata": {},
   "outputs": [
    {
     "data": {
      "text/plain": [
       "[WindowsPath('d:/Frank/Imperial-FYP/software_archive/inference/Dataset002_MR_Crohns_axial/MR_Crohns_axial_Testing_001.nii.gz'),\n",
       " WindowsPath('d:/Frank/Imperial-FYP/software_archive/inference/Dataset002_MR_Crohns_axial/MR_Crohns_axial_Testing_002.nii.gz'),\n",
       " WindowsPath('d:/Frank/Imperial-FYP/software_archive/inference/Dataset002_MR_Crohns_axial/MR_Crohns_axial_Testing_003.nii.gz'),\n",
       " WindowsPath('d:/Frank/Imperial-FYP/software_archive/inference/Dataset002_MR_Crohns_axial/MR_Crohns_axial_Testing_004.nii.gz'),\n",
       " WindowsPath('d:/Frank/Imperial-FYP/software_archive/inference/Dataset002_MR_Crohns_axial/MR_Crohns_axial_Testing_005.nii.gz'),\n",
       " WindowsPath('d:/Frank/Imperial-FYP/software_archive/inference/Dataset002_MR_Crohns_axial/MR_Crohns_axial_Testing_006.nii.gz')]"
      ]
     },
     "execution_count": 21,
     "metadata": {},
     "output_type": "execute_result"
    }
   ],
   "source": [
    "all_data_folder = base_path / \"lab\" / \"Npz_files\"\n",
    "task_name = \"MR_Crohns_axial\"\n",
    "task_id = 2\n",
    "input_folder = Path(nnUNet_raw) / f\"Dataset{task_id:03d}_{task_name}\" / \"imagesTs\"\n",
    "output_folder = base_path / \"inference\" / f\"Dataset{task_id:03d}_{task_name}\"\n",
    "mask_prediction_paths = sorted(output_folder.glob(\"*.nii.gz\"))\n",
    "mask_gt_paths = sorted((Path(nnUNet_raw) / f\"Dataset{task_id:03d}_{task_name}\" / \"labelsTs\").glob(\"*.nii.gz\"))\n",
    "mask_prediction_paths"
   ]
  },
  {
   "cell_type": "code",
   "execution_count": 22,
   "metadata": {},
   "outputs": [
    {
     "data": {
      "text/plain": [
       "[WindowsPath('D:/Frank/Imperial-FYP/software_archive/data/nnUNet_raw/Dataset002_MR_Crohns_axial/labelsTs/MR_Crohns_axial_Testing_001.nii.gz'),\n",
       " WindowsPath('D:/Frank/Imperial-FYP/software_archive/data/nnUNet_raw/Dataset002_MR_Crohns_axial/labelsTs/MR_Crohns_axial_Testing_002.nii.gz'),\n",
       " WindowsPath('D:/Frank/Imperial-FYP/software_archive/data/nnUNet_raw/Dataset002_MR_Crohns_axial/labelsTs/MR_Crohns_axial_Testing_003.nii.gz'),\n",
       " WindowsPath('D:/Frank/Imperial-FYP/software_archive/data/nnUNet_raw/Dataset002_MR_Crohns_axial/labelsTs/MR_Crohns_axial_Testing_004.nii.gz'),\n",
       " WindowsPath('D:/Frank/Imperial-FYP/software_archive/data/nnUNet_raw/Dataset002_MR_Crohns_axial/labelsTs/MR_Crohns_axial_Testing_005.nii.gz'),\n",
       " WindowsPath('D:/Frank/Imperial-FYP/software_archive/data/nnUNet_raw/Dataset002_MR_Crohns_axial/labelsTs/MR_Crohns_axial_Testing_006.nii.gz')]"
      ]
     },
     "execution_count": 22,
     "metadata": {},
     "output_type": "execute_result"
    }
   ],
   "source": [
    "mask_gt_paths"
   ]
  },
  {
   "cell_type": "code",
   "execution_count": 23,
   "metadata": {},
   "outputs": [
    {
     "name": "stdout",
     "output_type": "stream",
     "text": [
      "mean dice coefficient: 0.6888410730416243:.4f\n",
      "median dice coefficient: 0.7344\n",
      "std dice coefficient: 0.1830\n",
      "[0.8202 0.8515 0.4069 0.6486 0.5084 0.8975]\n"
     ]
    }
   ],
   "source": [
    "all_data_folder = base_path / \"lab\" / \"Npz_files\"\n",
    "task_name = \"MR_Crohns_axial\"\n",
    "task_id = 2\n",
    "input_folder = Path(nnUNet_raw) / f\"Dataset{task_id:03d}_{task_name}\" / \"imagesTs\"\n",
    "output_folder = base_path / \"inference\" / f\"Dataset{task_id:03d}_{task_name}\"\n",
    "mask_prediction_paths = sorted(output_folder.glob(\"*.nii.gz\"))\n",
    "mask_gt_paths = sorted((Path(nnUNet_raw) / f\"Dataset{task_id:03d}_{task_name}\" / \"labelsTs\").glob(\"*.nii.gz\"))\n",
    "dscs = []\n",
    "for mask_pred_path, mask_gt_path in zip(mask_prediction_paths, mask_gt_paths):\n",
    "    mask_pred = sitk.GetArrayFromImage(sitk.ReadImage(str(mask_pred_path)))\n",
    "    mask_gt = sitk.GetArrayFromImage(sitk.ReadImage(str(mask_gt_path)))\n",
    "    dsc = compute_dice_coefficient(mask_gt, mask_pred)\n",
    "    dscs.append(dsc)\n",
    "\n",
    "print(f\"mean dice coefficient: {np.nanmean(dscs)}:.4f\")\n",
    "print(f\"median dice coefficient: {np.nanmedian(dscs):.4f}\")\n",
    "print(f\"std dice coefficient: {np.nanstd(dscs):.4f}\")\n",
    "print(np.round(dscs, 4))"
   ]
  },
  {
   "cell_type": "code",
   "execution_count": 46,
   "metadata": {},
   "outputs": [
    {
     "name": "stdout",
     "output_type": "stream",
     "text": [
      "(14, 256, 256) (14, 256, 256)\n",
      "(19, 256, 256) (19, 256, 256)\n",
      "(16, 256, 256) (16, 256, 256)\n",
      "(17, 256, 256) (17, 256, 256)\n",
      "(10, 256, 256) (10, 256, 256)\n",
      "(18, 256, 256) (18, 256, 256)\n",
      "(17, 256, 256) (17, 256, 256)\n",
      "(17, 256, 256) (17, 256, 256)\n",
      "(15, 256, 256) (15, 256, 256)\n",
      "(7, 256, 256) (7, 256, 256)\n",
      "(23, 256, 256) (23, 256, 256)\n",
      "(11, 256, 256) (11, 256, 256)\n",
      "(5, 256, 256) (5, 256, 256)\n",
      "(12, 256, 256) (12, 256, 256)\n",
      "(18, 256, 256) (18, 256, 256)\n",
      "(15, 256, 256) (15, 256, 256)\n",
      "(18, 256, 256) (18, 256, 256)\n",
      "(13, 256, 256) (13, 256, 256)\n",
      "(16, 256, 256) (16, 256, 256)\n",
      "(17, 256, 256) (17, 256, 256)\n",
      "(6, 256, 256) (6, 256, 256)\n",
      "(16, 256, 256) (16, 256, 256)\n",
      "(13, 256, 256) (13, 256, 256)\n",
      "(9, 256, 256) (9, 256, 256)\n",
      "(16, 256, 256) (16, 256, 256)\n",
      "(14, 256, 256) (14, 256, 256)\n",
      "(19, 256, 256) (19, 256, 256)\n",
      "(5, 256, 256) (5, 256, 256)\n",
      "(12, 256, 256) (12, 256, 256)\n",
      "(10, 256, 256) (10, 256, 256)\n",
      "(20, 256, 256) (20, 256, 256)\n",
      "(10, 256, 256) (10, 256, 256)\n",
      "(16, 256, 256) (16, 256, 256)\n",
      "(11, 256, 256) (11, 256, 256)\n",
      "(17, 256, 256) (17, 256, 256)\n",
      "(14, 256, 256) (14, 256, 256)\n",
      "(11, 256, 256) (11, 256, 256)\n",
      "(9, 256, 256) (9, 256, 256)\n",
      "(15, 256, 256) (15, 256, 256)\n",
      "(8, 256, 256) (8, 256, 256)\n",
      "(9, 256, 256) (9, 256, 256)\n",
      "(13, 256, 256) (13, 256, 256)\n",
      "(18, 256, 256) (18, 256, 256)\n",
      "(21, 256, 256) (21, 256, 256)\n",
      "(9, 256, 256) (9, 256, 256)\n",
      "(15, 256, 256) (15, 256, 256)\n",
      "(6, 256, 256) (6, 256, 256)\n",
      "(4, 256, 256) (4, 256, 256)\n",
      "(8, 256, 256) (8, 256, 256)\n",
      "(7, 256, 256) (7, 256, 256)\n",
      "(5, 256, 256) (5, 256, 256)\n",
      "(6, 256, 256) (6, 256, 256)\n",
      "(36, 256, 256) (36, 256, 256)\n",
      "(12, 256, 256) (12, 256, 256)\n",
      "(11, 256, 256) (11, 256, 256)\n",
      "(11, 256, 256) (11, 256, 256)\n",
      "(33, 256, 256) (33, 256, 256)\n",
      "(16, 256, 256) (16, 256, 256)\n",
      "(9, 256, 256) (9, 256, 256)\n",
      "(5, 256, 256) (5, 256, 256)\n",
      "(5, 256, 256) (5, 256, 256)\n",
      "(7, 256, 256) (7, 256, 256)\n",
      "(15, 256, 256) (15, 256, 256)\n",
      "(17, 256, 256) (17, 256, 256)\n",
      "(4, 256, 256) (4, 256, 256)\n",
      "(12, 256, 256) (12, 256, 256)\n",
      "(12, 256, 256) (12, 256, 256)\n",
      "(16, 256, 256) (16, 256, 256)\n",
      "(20, 256, 256) (20, 256, 256)\n",
      "(9, 256, 256) (9, 256, 256)\n",
      "(21, 256, 256) (21, 256, 256)\n",
      "(6, 256, 256) (6, 256, 256)\n",
      "(11, 256, 256) (11, 256, 256)\n",
      "(14, 256, 256) (14, 256, 256)\n",
      "(6, 256, 256) (6, 256, 256)\n",
      "(12, 256, 256) (12, 256, 256)\n",
      "(9, 256, 256) (9, 256, 256)\n",
      "(15, 256, 256) (15, 256, 256)\n",
      "(8, 256, 256) (8, 256, 256)\n",
      "(6, 256, 256) (6, 256, 256)\n",
      "(11, 256, 256) (11, 256, 256)\n",
      "(12, 256, 256) (12, 256, 256)\n",
      "(17, 256, 256) (17, 256, 256)\n",
      "(10, 256, 256) (10, 256, 256)\n"
     ]
    }
   ],
   "source": [
    "task_name = \"MR_Crohns_Proxy_coronal\"\n",
    "task_id = 3\n",
    "npz_imgs_folder = all_data_folder / task_name / \"data\"\n",
    "npz_weak_masks_folder = all_data_folder / task_name / \"masks\"\n",
    "output_dataset_folder = Path(nnUNet_raw) / f\"Dataset{task_id:03d}_{task_name}\"\n",
    "output_dataset_folder.mkdir(exist_ok=True)\n",
    "\n",
    "# Train set\n",
    "images_folder = output_dataset_folder / \"imagesTr\"\n",
    "labels_folder = output_dataset_folder / \"labelsTr\"\n",
    "images_folder.mkdir(exist_ok=True)\n",
    "labels_folder.mkdir(exist_ok=True)\n",
    "\n",
    "npz_imgs_paths = sorted(npz_imgs_folder.glob(\"*.npz\"))\n",
    "npz_weak_masks_paths = sorted(npz_weak_masks_folder.glob(\"*.npz\"))\n",
    "\n",
    "for i, (img_file, gt_file) in tqdm(\n",
    "    enumerate(zip(npz_imgs_paths, npz_weak_masks_paths)),\n",
    "    total=len(npz_imgs_paths),\n",
    "):\n",
    "    img_data = np.load(img_file)\n",
    "    image_volume = img_data[\"imgs\"]\n",
    "    gt_data = np.load(gt_file)\n",
    "    weak_mask_volume = gt_data[\"gts\"]\n",
    "\n",
    "    # convert the 3-channel image to a single channel image\n",
    "    image_volume = image_volume[:, :, :, 0]\n",
    "\n",
    "    # Save the image volume\n",
    "    saved_image = sitk.GetImageFromArray(image_volume)\n",
    "    saved_image.SetSpacing((1, 1, 1))\n",
    "    saved_image.SetOrigin((0, 0, 0))\n",
    "    saved_image.SetDirection((1, 0, 0, 0, 1, 0, 0, 0, 1))\n",
    "    sitk.WriteImage(\n",
    "        saved_image,\n",
    "        str(images_folder / f\"{task_name}_Training_{i+1:03d}_0000.nii.gz\"),\n",
    "    )\n",
    "\n",
    "\n",
    "    # Save the weak mask volume\n",
    "    saved_weak_mask = sitk.GetImageFromArray(weak_mask_volume)\n",
    "    saved_weak_mask.SetSpacing((1, 1, 1))\n",
    "    saved_weak_mask.SetOrigin((0, 0, 0))\n",
    "    saved_weak_mask.SetDirection((1, 0, 0, 0, 1, 0, 0, 0, 1))\n",
    "    sitk.WriteImage(\n",
    "        saved_weak_mask,\n",
    "        str(labels_folder / f\"{task_name}_Training_{i+1:03d}.nii.gz\"),\n",
    "    )\n"
   ]
  },
  {
   "cell_type": "code",
   "execution_count": 25,
   "metadata": {},
   "outputs": [],
   "source": [
    "generate_dataset_json(\n",
    "    output_folder=str(output_dataset_folder),\n",
    "    channel_names={\n",
    "        encoding: modality for modality, encoding in MODALITY_ENCODINGS.items()\n",
    "    },\n",
    "    labels={\n",
    "        \"background\": 0,\n",
    "        \"terminal ileum\": 1,\n",
    "    },\n",
    "    num_training_cases=len(npz_imgs_paths),\n",
    "    file_ending=\".nii.gz\",\n",
    "    regions_class_order=(1,),\n",
    "    license=\"see https://www.synapse.org/#!Synapse:syn25829067/wiki/610863\",\n",
    "    reference=\"see https://www.synapse.org/#!Synapse:syn25829067/wiki/610863\",\n",
    "    dataset_release_date=\"1.0\",\n",
    ")"
   ]
  },
  {
   "cell_type": "code",
   "execution_count": 7,
   "metadata": {},
   "outputs": [],
   "source": [
    "task_name = \"MR_Crohns_coronal\"\n",
    "task_id = 4"
   ]
  },
  {
   "cell_type": "code",
   "execution_count": 54,
   "metadata": {},
   "outputs": [],
   "source": [
    "npz_data_folder = all_data_folder / task_name / \"train\"\n",
    "\n",
    "output_dataset_folder = Path(nnUNet_raw) / f\"Dataset{task_id:03d}_{task_name}\"\n",
    "output_dataset_folder.mkdir(exist_ok=True)\n",
    "\n",
    "# Train set\n",
    "images_folder = output_dataset_folder / \"imagesTr\"\n",
    "labels_folder = output_dataset_folder / \"labelsTr\"\n",
    "images_folder.mkdir(exist_ok=True)\n",
    "labels_folder.mkdir(exist_ok=True)\n",
    "\n",
    "npz_data_paths = sorted(npz_data_folder.glob(\"*.npz\"))\n",
    "\n",
    "for i, npz_file in tqdm(enumerate(npz_data_paths), total=len(npz_data_paths)):\n",
    "    npz_data = np.load(npz_file)\n",
    "    image_volume = npz_data[\"imgs\"]\n",
    "    gt_volume = npz_data[\"gts\"]\n",
    "\n",
    "    # convert the 3-channel image to a single channel image\n",
    "    image_volume = image_volume[:, :, :, 0]\n",
    "\n",
    "    # Save the image volume\n",
    "    saved_image = sitk.GetImageFromArray(image_volume)\n",
    "    saved_image.SetSpacing((1, 1, 1))\n",
    "    saved_image.SetOrigin((0, 0, 0))\n",
    "    saved_image.SetDirection((1, 0, 0, 0, 1, 0, 0, 0, 1))\n",
    "    sitk.WriteImage(\n",
    "        saved_image,\n",
    "        str(images_folder / f\"{task_name}_Training_{i+1:03d}_0000.nii.gz\"),\n",
    "    )\n",
    "\n",
    "    # Save the gt volume\n",
    "    saved_gt = sitk.GetImageFromArray(gt_volume)\n",
    "    saved_gt.SetSpacing((1, 1, 1))\n",
    "    saved_gt.SetOrigin((0, 0, 0))\n",
    "    saved_gt.SetDirection((1, 0, 0, 0, 1, 0, 0, 0, 1))\n",
    "    sitk.WriteImage(\n",
    "        saved_gt,\n",
    "        str(labels_folder / f\"{task_name}_Training_{i+1:03d}.nii.gz\"),\n",
    "    )\n"
   ]
  },
  {
   "cell_type": "code",
   "execution_count": 55,
   "metadata": {},
   "outputs": [],
   "source": [
    "num_training_cases = len(list(Path(images_folder).glob(\"*.nii.gz\")))\n",
    "generate_dataset_json(\n",
    "    output_folder=str(output_dataset_folder),\n",
    "    channel_names={\n",
    "        encoding: modality for modality, encoding in MODALITY_ENCODINGS.items()\n",
    "    },\n",
    "    labels={\n",
    "        \"background\": 0,\n",
    "        \"terminal ileum\": 1,\n",
    "    },\n",
    "    num_training_cases=num_training_cases,\n",
    "    file_ending=\".nii.gz\",\n",
    "    regions_class_order=(1,),\n",
    "    license=\"see https://www.synapse.org/#!Synapse:syn25829067/wiki/610863\",\n",
    "    reference=\"see https://www.synapse.org/#!Synapse:syn25829067/wiki/610863\",\n",
    "    dataset_release_date=\"1.0\",\n",
    ")"
   ]
  },
  {
   "cell_type": "code",
   "execution_count": 8,
   "metadata": {},
   "outputs": [
    {
     "name": "stderr",
     "output_type": "stream",
     "text": [
      "100%|██████████| 7/7 [00:00<00:00, 43.25it/s]\n"
     ]
    }
   ],
   "source": [
    "npz_data_folder = all_data_folder / task_name / \"val\"\n",
    "\n",
    "output_dataset_folder = Path(nnUNet_raw) / f\"Dataset{task_id:03d}_{task_name}\"\n",
    "output_dataset_folder.mkdir(exist_ok=True)\n",
    "\n",
    "# Train set\n",
    "images_folder = output_dataset_folder / \"imagesTs\"\n",
    "labels_folder = output_dataset_folder / \"labelsTs\"\n",
    "images_folder.mkdir(exist_ok=True)\n",
    "labels_folder.mkdir(exist_ok=True)\n",
    "\n",
    "npz_data_paths = sorted(npz_data_folder.glob(\"*.npz\"))\n",
    "\n",
    "for i, npz_file in tqdm(enumerate(npz_data_paths), total=len(npz_data_paths)):\n",
    "    npz_data = np.load(npz_file)\n",
    "    image_volume = npz_data[\"imgs\"]\n",
    "    gt_volume = npz_data[\"gts\"]\n",
    "\n",
    "    # convert the 3-channel image to a single channel image\n",
    "    if image_volume.shape[-1] == 3:\n",
    "        image_volume = image_volume[:, :, :, 0]\n",
    "\n",
    "    # Save the image volume\n",
    "    saved_image = sitk.GetImageFromArray(image_volume)\n",
    "    saved_image.SetSpacing((1, 1, 1))\n",
    "    saved_image.SetOrigin((0, 0, 0))\n",
    "    saved_image.SetDirection((1, 0, 0, 0, 1, 0, 0, 0, 1))\n",
    "    sitk.WriteImage(\n",
    "        saved_image,\n",
    "        str(images_folder / f\"{task_name}_Testing_{i+1:03d}_0000.nii.gz\"),\n",
    "    )\n",
    "\n",
    "\n",
    "    # Save the gt volume\n",
    "    saved_gt = sitk.GetImageFromArray(gt_volume)\n",
    "    saved_gt.SetSpacing((1, 1, 1))\n",
    "    saved_gt.SetOrigin((0, 0, 0))\n",
    "    saved_gt.SetDirection((1, 0, 0, 0, 1, 0, 0, 0, 1))\n",
    "    sitk.WriteImage(\n",
    "        saved_gt,\n",
    "        str(labels_folder / f\"{task_name}_Testing_{i+1:03d}.nii.gz\"),\n",
    "    )"
   ]
  },
  {
   "cell_type": "code",
   "execution_count": 9,
   "metadata": {},
   "outputs": [
    {
     "name": "stdout",
     "output_type": "stream",
     "text": [
      "nnUNetv2_predict -d 3 -i D:\\Frank\\Imperial-FYP\\software_archive\\data\\nnUNet_raw\\Dataset004_MR_Crohns_coronal\\imagesTs -o d:\\Frank\\Imperial-FYP\\software_archive\\inference\\Dataset004_MR_Crohns_coronal -f all -tr nnUNetTrainer_200epochs -c 2d -p nnUNetPlans\n"
     ]
    }
   ],
   "source": [
    "input_folder = Path(nnUNet_raw) / f\"Dataset{task_id:03d}_{task_name}\" / \"imagesTs\"\n",
    "output_folder = base_path / \"inference\" / f\"Dataset{task_id:03d}_{task_name}\"\n",
    "output_folder.mkdir(exist_ok=True)\n",
    "print(f\"nnUNetv2_predict -d 3 -i {str(input_folder)} -o {str(output_folder)} -f all -tr nnUNetTrainer_200epochs -c 2d -p nnUNetPlans\")"
   ]
  },
  {
   "cell_type": "code",
   "execution_count": 10,
   "metadata": {},
   "outputs": [
    {
     "data": {
      "text/plain": [
       "[WindowsPath('d:/Frank/Imperial-FYP/software_archive/inference/Dataset004_MR_Crohns_coronal/MR_Crohns_coronal_Testing_001.nii.gz'),\n",
       " WindowsPath('d:/Frank/Imperial-FYP/software_archive/inference/Dataset004_MR_Crohns_coronal/MR_Crohns_coronal_Testing_002.nii.gz'),\n",
       " WindowsPath('d:/Frank/Imperial-FYP/software_archive/inference/Dataset004_MR_Crohns_coronal/MR_Crohns_coronal_Testing_003.nii.gz'),\n",
       " WindowsPath('d:/Frank/Imperial-FYP/software_archive/inference/Dataset004_MR_Crohns_coronal/MR_Crohns_coronal_Testing_004.nii.gz'),\n",
       " WindowsPath('d:/Frank/Imperial-FYP/software_archive/inference/Dataset004_MR_Crohns_coronal/MR_Crohns_coronal_Testing_005.nii.gz'),\n",
       " WindowsPath('d:/Frank/Imperial-FYP/software_archive/inference/Dataset004_MR_Crohns_coronal/MR_Crohns_coronal_Testing_006.nii.gz'),\n",
       " WindowsPath('d:/Frank/Imperial-FYP/software_archive/inference/Dataset004_MR_Crohns_coronal/MR_Crohns_coronal_Testing_007.nii.gz')]"
      ]
     },
     "execution_count": 10,
     "metadata": {},
     "output_type": "execute_result"
    }
   ],
   "source": [
    "mask_prediction_paths = sorted(output_folder.glob(\"*.nii.gz\"))\n",
    "mask_gt_paths = sorted((Path(nnUNet_raw) / f\"Dataset{task_id:03d}_{task_name}\" / \"labelsTs\").glob(\"*.nii.gz\"))\n",
    "mask_prediction_paths"
   ]
  },
  {
   "cell_type": "code",
   "execution_count": 14,
   "metadata": {},
   "outputs": [
    {
     "name": "stdout",
     "output_type": "stream",
     "text": [
      "mean dice coefficient: 0.2613\n",
      "median dice coefficient: 0.1663\n",
      "std dice coefficient: 0.1836\n",
      "[0.6004 0.0542 0.1663 0.1131 0.314  0.1443 0.4364]\n"
     ]
    }
   ],
   "source": [
    "dscs = []\n",
    "for mask_pred_path, mask_gt_path in zip(mask_prediction_paths, mask_gt_paths):\n",
    "    mask_pred = sitk.GetArrayFromImage(sitk.ReadImage(str(mask_pred_path)))\n",
    "    mask_gt = sitk.GetArrayFromImage(sitk.ReadImage(str(mask_gt_path)))\n",
    "    dsc = compute_dice_coefficient(mask_gt, mask_pred)\n",
    "    dscs.append(dsc)\n",
    "\n",
    "print(f\"mean dice coefficient: {np.nanmean(dscs):.4f}\")\n",
    "print(f\"median dice coefficient: {np.nanmedian(dscs):.4f}\")\n",
    "print(f\"std dice coefficient: {np.nanstd(dscs):.4f}\")\n",
    "print(np.round(dscs, 4))"
   ]
  },
  {
   "cell_type": "code",
   "execution_count": 17,
   "metadata": {},
   "outputs": [],
   "source": [
    "def show_mask(mask, ax):\n",
    "    color = np.array([251 / 255, 252 / 255, 30 / 255, 0.6])\n",
    "    h, w = mask.shape[-2:]\n",
    "    mask_image = mask.reshape(h, w, 1) * color.reshape(1, 1, -1)\n",
    "    ax.imshow(mask_image)"
   ]
  },
  {
   "cell_type": "code",
   "execution_count": 30,
   "metadata": {},
   "outputs": [
    {
     "name": "stdout",
     "output_type": "stream",
     "text": [
      "Image 1 DSC: 0.8202, img_idx: 6\n",
      "Image 2 DSC: 0.8515, img_idx: 14\n",
      "Image 3 DSC: 0.4069, img_idx: 10\n",
      "Image 4 DSC: 0.6486, img_idx: 7\n",
      "Image 5 DSC: 0.5084, img_idx: 20\n",
      "Image 6 DSC: 0.8975, img_idx: 6\n",
      "Average DSC: 0.6888\n",
      "Median DSC: 0.7344\n",
      "Std DSC: 0.1830\n",
      "Max DSC: 0.8975\n"
     ]
    }
   ],
   "source": [
    "from matplotlib import pyplot as plt\n",
    "import numpy as np\n",
    "\n",
    "\n",
    "all_data_folder = base_path / \"lab\" / \"Npz_files\"\n",
    "task_name = \"MR_Crohns_axial\"\n",
    "task_id = 2\n",
    "input_folder = Path(nnUNet_raw) / f\"Dataset{task_id:03d}_{task_name}\" / \"imagesTs\"\n",
    "output_folder = base_path / \"inference\" / f\"Dataset{task_id:03d}_{task_name}\"\n",
    "mask_prediction_paths = sorted(output_folder.glob(\"*.nii.gz\"))\n",
    "mask_gt_paths = sorted((Path(nnUNet_raw) / f\"Dataset{task_id:03d}_{task_name}\" / \"labelsTs\").glob(\"*.nii.gz\"))\n",
    "image_paths = sorted(input_folder.glob(\"*.nii.gz\"))\n",
    "dscs = []\n",
    "np.random.seed(42)\n",
    "for i, (image_path, mask_pred_path, mask_gt_path) in enumerate(zip(image_paths, mask_prediction_paths, mask_gt_paths)):\n",
    "    image = sitk.GetArrayFromImage(sitk.ReadImage(str(image_path)))\n",
    "    mask_pred = sitk.GetArrayFromImage(sitk.ReadImage(str(mask_pred_path)))\n",
    "    mask_gt = sitk.GetArrayFromImage(sitk.ReadImage(str(mask_gt_path)))\n",
    "    dsc = compute_dice_coefficient(mask_gt, mask_pred)\n",
    "    dscs.append(dsc)\n",
    "    # show ground truth and prediction on the same image\n",
    "    # fig, ax = plt.subplots(1, 2, figsize=(10, 5))\n",
    "    # img_idx = np.random.randint(0, image.shape[0])\n",
    "    # ax[0].imshow(image[img_idx], cmap=\"gray\")\n",
    "    # show_mask(mask_gt[img_idx], ax[0])\n",
    "    # ax[0].set_title(\"Ground truth\", fontsize=16, fontweight=\"bold\")\n",
    "    # ax[1].imshow(image[img_idx], cmap=\"gray\")\n",
    "    # show_mask(mask_pred[img_idx], ax[1])\n",
    "    # ax[1].set_title(f\"Prediction, DSC: {dsc:.4f}\", fontsize=16, fontweight=\"bold\")\n",
    "    # ax[0].axis(\"off\")\n",
    "    # ax[1].axis(\"off\")\n",
    "    # plt.tight_layout()\n",
    "    # fig.savefig(f\"results_{img_idx}.png\", dpi=300)\n",
    "    # plt.show()\n",
    "    img_idx = np.random.randint(0, image.shape[0])\n",
    "    print(f\"Image {i+1} DSC: {dsc:.4f}, img_idx: {img_idx}\")\n",
    "    fig, ax = plt.subplots(figsize=(5, 5))\n",
    "    ax.imshow(image[img_idx], cmap=\"gray\")\n",
    "    show_mask(mask_pred[img_idx], ax)\n",
    "    ax.axis(\"off\")\n",
    "    fig.savefig(f\"results_{i+1}_medsam.png\", dpi=300)\n",
    "    plt.close(fig)\n",
    "\n",
    "    fig, ax = plt.subplots(figsize=(5, 5))\n",
    "    ax.imshow(image[img_idx], cmap=\"gray\")\n",
    "    show_mask(mask_gt[img_idx], ax)\n",
    "    ax.axis(\"off\")\n",
    "    fig.savefig(f\"results_{i+1}_gt.png\", dpi=300)\n",
    "    plt.close(fig)\n",
    "\n",
    "\n",
    "\n",
    "print(f\"Average DSC: {np.nanmean(dscs):.4f}\")\n",
    "print(f\"Median DSC: {np.nanmedian(dscs):.4f}\")\n",
    "print(f\"Std DSC: {np.nanstd(dscs):.4f}\")\n",
    "print(f\"Max DSC: {np.nanmax(dscs):.4f}\")"
   ]
  },
  {
   "cell_type": "code",
   "execution_count": 22,
   "metadata": {},
   "outputs": [],
   "source": [
    "def get_bbox_from_mask(mask):\n",
    "    \"\"\"Returns a bounding box from a mask\"\"\"\n",
    "    y_indices, x_indices = np.where(mask > 0)\n",
    "    x_min, x_max = np.min(x_indices), np.max(x_indices)\n",
    "    y_min, y_max = np.min(y_indices), np.max(y_indices)\n",
    "    # add perturbation to bounding box coordinates\n",
    "    H, W = mask.shape\n",
    "    x_min = max(0, x_min - np.random.randint(0, 20))\n",
    "    x_max = min(W, x_max + np.random.randint(0, 20))\n",
    "    y_min = max(0, y_min - np.random.randint(0, 20))\n",
    "    y_max = min(H, y_max + np.random.randint(0, 20))\n",
    "\n",
    "    return np.array([x_min, y_min, x_max, y_max])"
   ]
  },
  {
   "cell_type": "code",
   "execution_count": 32,
   "metadata": {},
   "outputs": [
    {
     "name": "stdout",
     "output_type": "stream",
     "text": [
      "Image 1 DSC: 0.6987, img_idx: 6\n",
      "Image 2 DSC: 0.6845, img_idx: 14\n",
      "Image 3 DSC: 0.5315, img_idx: 10\n",
      "Image 4 DSC: 0.5331, img_idx: 7\n",
      "Image 5 DSC: 0.5821, img_idx: 20\n",
      "Image 6 DSC: 0.6758, img_idx: 6\n",
      "Average DSC: 0.6176\n",
      "Median DSC: 0.6290\n",
      "Std DSC: 0.0710\n",
      "Max DSC: 0.6987\n"
     ]
    }
   ],
   "source": [
    "# SAM \n",
    "import torch\n",
    "from segment_anything import sam_model_registry, SamPredictor\n",
    "from segment_anything.utils.transforms import ResizeLongestSide\n",
    "\n",
    "model = sam_model_registry[\"vit_b\"](\n",
    "    checkpoint=\"../work_dir/SAM/sam_vit_b_01ec64.pth\",\n",
    ").to('cuda:0')\n",
    "\n",
    "model_predictor = SamPredictor(model)\n",
    "sam_trans = ResizeLongestSide(model.image_encoder.img_size)\n",
    "\n",
    "model.eval()\n",
    "npz_ts_folder = all_data_folder / task_name / \"val\"\n",
    "npz_ts_paths = sorted(npz_ts_folder.glob(\"*.npz\"))\n",
    "dscs = []\n",
    "np.random.seed(42)\n",
    "idx = [6, 14, 10, 7, 20, 6]\n",
    "for i, npz_ts_path in enumerate(npz_ts_paths):\n",
    "    npz = np.load(npz_ts_path)\n",
    "    imgs = npz[\"imgs\"]\n",
    "    masks = npz[\"gts\"]\n",
    "    segs = []\n",
    "    for img, mask in zip(imgs, masks):\n",
    "        bbox = get_bbox_from_mask(mask)\n",
    "        model_predictor.set_image(img)\n",
    "        sam_seg, _, _ = model_predictor.predict(\n",
    "            point_coords=None, box=bbox, multimask_output=False\n",
    "        )\n",
    "\n",
    "        segs.append(sam_seg[0])\n",
    "    segs = np.stack(segs, axis=0)\n",
    "    dsc = compute_dice_coefficient(masks > 0, segs > 0)\n",
    "    dscs.append(dsc)\n",
    "    img_idx = idx[i]\n",
    "    # # show ground truth and prediction on the same image\n",
    "    # fig, ax = plt.subplots(1, 2, figsize=(10, 5))\n",
    "    # ax[0].imshow(imgs[img_idx], cmap=\"gray\")\n",
    "    # show_mask(masks[img_idx], ax[0])\n",
    "    # ax[0].set_title(\"Ground truth\", fontsize=16, fontweight=\"bold\")\n",
    "    # ax[1].imshow(imgs[img_idx], cmap=\"gray\")\n",
    "    # show_mask(segs[img_idx], ax[1])\n",
    "    # ax[1].set_title(f\"Prediction, DSC: {dsc:.4f}\", fontsize=16, fontweight=\"bold\")\n",
    "    # ax[0].axis(\"off\")\n",
    "    # ax[1].axis(\"off\")\n",
    "    # plt.tight_layout()\n",
    "    # plt.show()\n",
    "    print(f\"Image {i+1} DSC: {dsc:.4f}, img_idx: {img_idx}\")\n",
    "    fig, ax = plt.subplots(figsize=(5, 5))\n",
    "    ax.imshow(imgs[img_idx], cmap=\"gray\")\n",
    "    show_mask(segs[img_idx], ax)\n",
    "    ax.axis(\"off\")\n",
    "    fig.savefig(f\"results_{i+1}_baseline.png\", dpi=300)\n",
    "    plt.close(fig)\n",
    "\n",
    "\n",
    "print(f\"Average DSC: {np.nanmean(dscs):.4f}\")\n",
    "print(f\"Median DSC: {np.nanmedian(dscs):.4f}\")\n",
    "print(f\"Std DSC: {np.nanstd(dscs):.4f}\")\n",
    "print(f\"Max DSC: {np.nanmax(dscs):.4f}\")\n"
   ]
  },
  {
   "cell_type": "code",
   "execution_count": null,
   "metadata": {},
   "outputs": [],
   "source": []
  }
 ],
 "metadata": {
  "kernelspec": {
   "display_name": "nnunet",
   "language": "python",
   "name": "python3"
  },
  "language_info": {
   "codemirror_mode": {
    "name": "ipython",
    "version": 3
   },
   "file_extension": ".py",
   "mimetype": "text/x-python",
   "name": "python",
   "nbconvert_exporter": "python",
   "pygments_lexer": "ipython3",
   "version": "3.9.16"
  },
  "orig_nbformat": 4
 },
 "nbformat": 4,
 "nbformat_minor": 2
}
